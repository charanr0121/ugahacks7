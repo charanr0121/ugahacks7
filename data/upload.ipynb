{
 "cells": [
  {
   "cell_type": "code",
   "execution_count": 4,
   "metadata": {},
   "outputs": [],
   "source": [
    "import pandas as pd \n",
    "import pandas_gbq"
   ]
  },
  {
   "cell_type": "code",
   "execution_count": 15,
   "metadata": {},
   "outputs": [],
   "source": [
    "df = pd.read_csv(\"D:/ugahacks7/api/yahoo_scraper/esg.csv\", index_col=0)\n",
    "pandas_gbq.to_gbq(df, 'ugahacks7-341806.data.esg_info', project_id='ugahacks7-341806', if_exists='replace')"
   ]
  }
 ],
 "metadata": {
  "interpreter": {
   "hash": "455c487971e5d9bfa859146a661fac7dd26512c2014fa91886b6a9ca0fb4f93a"
  },
  "kernelspec": {
   "display_name": "Python 3.9.7 ('ugahacks')",
   "language": "python",
   "name": "python3"
  },
  "language_info": {
   "codemirror_mode": {
    "name": "ipython",
    "version": 3
   },
   "file_extension": ".py",
   "mimetype": "text/x-python",
   "name": "python",
   "nbconvert_exporter": "python",
   "pygments_lexer": "ipython3",
   "version": "3.9.7"
  },
  "orig_nbformat": 4
 },
 "nbformat": 4,
 "nbformat_minor": 2
}
