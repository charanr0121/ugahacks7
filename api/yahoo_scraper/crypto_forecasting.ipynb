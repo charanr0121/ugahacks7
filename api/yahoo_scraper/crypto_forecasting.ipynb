{
 "cells": [
  {
   "cell_type": "code",
   "execution_count": 2,
   "id": "9b61299a",
   "metadata": {},
   "outputs": [],
   "source": [
    "import pandas as pd \n",
    "import numpy as np\n",
    "import glob\n",
    "from neuralprophet import NeuralProphet"
   ]
  },
  {
   "cell_type": "code",
   "execution_count": 11,
   "id": "3df853f3",
   "metadata": {},
   "outputs": [
    {
     "name": "stdout",
     "output_type": "stream",
     "text": [
      "1inch\n"
     ]
    },
    {
     "name": "stderr",
     "output_type": "stream",
     "text": [
      "Epoch[100/100]: 100%|████████████████████████████████████████████████████████████████████| 100/100 [00:07<00:00, 13.71it/s, SmoothL1Loss=0.00989, MAE=0.514, RMSE=0.666, RegLoss=0]\n",
      "WARNING - (NP.forecaster._make_future_dataframe) - Number of forecast steps is defined by n_forecasts. Adjusted to 30.\n"
     ]
    },
    {
     "name": "stdout",
     "output_type": "stream",
     "text": [
      "Aave\n"
     ]
    },
    {
     "name": "stderr",
     "output_type": "stream",
     "text": [
      "Epoch[100/100]: 100%|███████████████████████████████████████████████████████████████████████| 100/100 [00:08<00:00, 11.91it/s, SmoothL1Loss=0.0113, MAE=52.5, RMSE=68.3, RegLoss=0]\n",
      "WARNING - (NP.forecaster._make_future_dataframe) - Number of forecast steps is defined by n_forecasts. Adjusted to 30.\n"
     ]
    },
    {
     "name": "stdout",
     "output_type": "stream",
     "text": [
      "algorand\n"
     ]
    },
    {
     "name": "stderr",
     "output_type": "stream",
     "text": [
      "Epoch[100/100]: 100%|███████████████████████████████████████████████████████████████████| 100/100 [00:13<00:00,  7.60it/s, SmoothL1Loss=0.00476, MAE=0.0754, RMSE=0.114, RegLoss=0]\n",
      "WARNING - (NP.forecaster._make_future_dataframe) - Number of forecast steps is defined by n_forecasts. Adjusted to 30.\n"
     ]
    },
    {
     "name": "stdout",
     "output_type": "stream",
     "text": [
      "Amp\n"
     ]
    },
    {
     "name": "stderr",
     "output_type": "stream",
     "text": [
      "Epoch[100/100]: 100%|████████████████████████████████████████████████████████████████| 100/100 [00:09<00:00, 10.98it/s, SmoothL1Loss=0.00816, MAE=0.00575, RMSE=0.00808, RegLoss=0]\n",
      "WARNING - (NP.forecaster._make_future_dataframe) - Number of forecast steps is defined by n_forecasts. Adjusted to 30.\n"
     ]
    },
    {
     "name": "stdout",
     "output_type": "stream",
     "text": [
      "Arweave\n"
     ]
    },
    {
     "name": "stderr",
     "output_type": "stream",
     "text": [
      "Epoch[100/100]: 100%|██████████████████████████████████████████████████████████████████████| 100/100 [00:11<00:00,  8.88it/s, SmoothL1Loss=0.00716, MAE=4.94, RMSE=7.09, RegLoss=0]\n",
      "WARNING - (NP.forecaster._make_future_dataframe) - Number of forecast steps is defined by n_forecasts. Adjusted to 30.\n"
     ]
    },
    {
     "name": "stdout",
     "output_type": "stream",
     "text": [
      "Audius\n"
     ]
    },
    {
     "name": "stderr",
     "output_type": "stream",
     "text": [
      "Epoch[100/100]: 100%|█████████████████████████████████████████████████████████████████████| 100/100 [00:08<00:00, 11.29it/s, SmoothL1Loss=0.0146, MAE=0.326, RMSE=0.453, RegLoss=0]\n",
      "WARNING - (NP.forecaster._make_future_dataframe) - Number of forecast steps is defined by n_forecasts. Adjusted to 30.\n"
     ]
    },
    {
     "name": "stdout",
     "output_type": "stream",
     "text": [
      "avalanche\n"
     ]
    },
    {
     "name": "stderr",
     "output_type": "stream",
     "text": [
      "Epoch[100/100]: 100%|██████████████████████████████████████████████████████████████████████| 100/100 [00:06<00:00, 15.14it/s, SmoothL1Loss=0.00544, MAE=8.79, RMSE=11.5, RegLoss=0]\n",
      "WARNING - (NP.forecaster._make_future_dataframe) - Number of forecast steps is defined by n_forecasts. Adjusted to 30.\n"
     ]
    },
    {
     "name": "stdout",
     "output_type": "stream",
     "text": [
      "Axie Infinity\n"
     ]
    },
    {
     "name": "stderr",
     "output_type": "stream",
     "text": [
      "Epoch[100/100]: 100%|██████████████████████████████████████████████████████████████████████| 100/100 [00:07<00:00, 13.28it/s, SmoothL1Loss=0.00313, MAE=7.17, RMSE=10.5, RegLoss=0]\n",
      "WARNING - (NP.forecaster._make_future_dataframe) - Number of forecast steps is defined by n_forecasts. Adjusted to 30.\n"
     ]
    },
    {
     "name": "stdout",
     "output_type": "stream",
     "text": [
      "Basic Attention Token\n"
     ]
    },
    {
     "name": "stderr",
     "output_type": "stream",
     "text": [
      "Epoch[100/100]: 100%|████████████████████████████████████████████████████████████████████| 100/100 [00:25<00:00,  3.87it/s, SmoothL1Loss=0.00549, MAE=0.069, RMSE=0.108, RegLoss=0]\n",
      "WARNING - (NP.forecaster._make_future_dataframe) - Number of forecast steps is defined by n_forecasts. Adjusted to 30.\n"
     ]
    },
    {
     "name": "stdout",
     "output_type": "stream",
     "text": [
      "Binance USD\n"
     ]
    },
    {
     "name": "stderr",
     "output_type": "stream",
     "text": [
      "Epoch[100/100]: 100%|████████████████████████████████████████████████████████████████| 100/100 [00:14<00:00,  7.00it/s, SmoothL1Loss=0.00441, MAE=0.00167, RMSE=0.00327, RegLoss=0]\n",
      "WARNING - (NP.forecaster._make_future_dataframe) - Number of forecast steps is defined by n_forecasts. Adjusted to 30.\n"
     ]
    },
    {
     "name": "stdout",
     "output_type": "stream",
     "text": [
      "Bitcoin BEP2\n"
     ]
    },
    {
     "name": "stderr",
     "output_type": "stream",
     "text": [
      "Epoch[100/100]: 100%|████████████████████████████████████████████████████████████████| 100/100 [00:16<00:00,  6.04it/s, SmoothL1Loss=0.00301, MAE=2.74e+3, RMSE=4.09e+3, RegLoss=0]\n",
      "WARNING - (NP.forecaster._make_future_dataframe) - Number of forecast steps is defined by n_forecasts. Adjusted to 30.\n"
     ]
    },
    {
     "name": "stdout",
     "output_type": "stream",
     "text": [
      "bitcoin cash\n"
     ]
    },
    {
     "name": "stderr",
     "output_type": "stream",
     "text": [
      "Epoch[100/100]: 100%|█████████████████████████████████████████████████████████████████████████| 100/100 [00:28<00:00,  3.53it/s, SmoothL1Loss=0.0106, MAE=104, RMSE=181, RegLoss=0]\n",
      "WARNING - (NP.forecaster._make_future_dataframe) - Number of forecast steps is defined by n_forecasts. Adjusted to 30.\n"
     ]
    },
    {
     "name": "stdout",
     "output_type": "stream",
     "text": [
      "Bitcoin SV\n"
     ]
    },
    {
     "name": "stderr",
     "output_type": "stream",
     "text": [
      "Epoch[100/100]: 100%|███████████████████████████████████████████████████████████████████████| 100/100 [00:18<00:00,  5.31it/s, SmoothL1Loss=0.0121, MAE=25.1, RMSE=36.6, RegLoss=0]\n",
      "WARNING - (NP.forecaster._make_future_dataframe) - Number of forecast steps is defined by n_forecasts. Adjusted to 30.\n"
     ]
    },
    {
     "name": "stdout",
     "output_type": "stream",
     "text": [
      "bitcoin\n"
     ]
    },
    {
     "name": "stderr",
     "output_type": "stream",
     "text": [
      "Epoch[100/100]: 100%|█████████████████████████████████████████████████████████████████████| 100/100 [01:10<00:00,  1.41it/s, SmoothL1Loss=0.00128, MAE=894, RMSE=2.1e+3, RegLoss=0]\n",
      "WARNING - (NP.forecaster._make_future_dataframe) - Number of forecast steps is defined by n_forecasts. Adjusted to 30.\n"
     ]
    },
    {
     "name": "stdout",
     "output_type": "stream",
     "text": [
      "BNB\n"
     ]
    },
    {
     "name": "stderr",
     "output_type": "stream",
     "text": [
      "Epoch[100/100]: 100%|██████████████████████████████████████████████████████████████████████| 100/100 [00:28<00:00,  3.49it/s, SmoothL1Loss=0.00289, MAE=18.1, RMSE=38.1, RegLoss=0]\n",
      "WARNING - (NP.forecaster._make_future_dataframe) - Number of forecast steps is defined by n_forecasts. Adjusted to 30.\n"
     ]
    },
    {
     "name": "stdout",
     "output_type": "stream",
     "text": [
      "BORA\n"
     ]
    },
    {
     "name": "stderr",
     "output_type": "stream",
     "text": [
      "Epoch[100/100]: 100%|██████████████████████████████████████████████████████████████████| 100/100 [00:18<00:00,  5.31it/s, SmoothL1Loss=0.00484, MAE=0.0397, RMSE=0.0832, RegLoss=0]\n",
      "WARNING - (NP.forecaster._make_future_dataframe) - Number of forecast steps is defined by n_forecasts. Adjusted to 30.\n"
     ]
    },
    {
     "name": "stdout",
     "output_type": "stream",
     "text": [
      "cardano\n"
     ]
    },
    {
     "name": "stderr",
     "output_type": "stream",
     "text": [
      "Epoch[100/100]: 100%|███████████████████████████████████████████████████████████████████| 100/100 [00:25<00:00,  3.85it/s, SmoothL1Loss=0.00308, MAE=0.0739, RMSE=0.149, RegLoss=0]\n",
      "WARNING - (NP.forecaster._make_future_dataframe) - Number of forecast steps is defined by n_forecasts. Adjusted to 30.\n"
     ]
    },
    {
     "name": "stdout",
     "output_type": "stream",
     "text": [
      "Celo\n"
     ]
    },
    {
     "name": "stderr",
     "output_type": "stream",
     "text": [
      "Epoch[100/100]: 100%|█████████████████████████████████████████████████████████████████████| 100/100 [00:09<00:00, 10.03it/s, SmoothL1Loss=0.00949, MAE=0.563, RMSE=0.73, RegLoss=0]\n",
      "WARNING - (NP.forecaster._make_future_dataframe) - Number of forecast steps is defined by n_forecasts. Adjusted to 30.\n"
     ]
    },
    {
     "name": "stdout",
     "output_type": "stream",
     "text": [
      "Celsius\n"
     ]
    },
    {
     "name": "stderr",
     "output_type": "stream",
     "text": [
      "Epoch[100/100]: 100%|█████████████████████████████████████████████████████████████████████| 100/100 [00:22<00:00,  4.45it/s, SmoothL1Loss=0.00175, MAE=0.19, RMSE=0.358, RegLoss=0]\n",
      "WARNING - (NP.forecaster._make_future_dataframe) - Number of forecast steps is defined by n_forecasts. Adjusted to 30.\n"
     ]
    },
    {
     "name": "stdout",
     "output_type": "stream",
     "text": [
      "chainlink\n"
     ]
    },
    {
     "name": "stderr",
     "output_type": "stream",
     "text": [
      "Epoch[100/100]: 100%|████████████████████████████████████████████████████████████████████████| 100/100 [00:23<00:00,  4.18it/s, SmoothL1Loss=0.0045, MAE=1.6, RMSE=2.88, RegLoss=0]\n",
      "WARNING - (NP.forecaster._make_future_dataframe) - Number of forecast steps is defined by n_forecasts. Adjusted to 30.\n"
     ]
    },
    {
     "name": "stdout",
     "output_type": "stream",
     "text": [
      "Chiliz\n"
     ]
    },
    {
     "name": "stderr",
     "output_type": "stream",
     "text": [
      "Epoch[100/100]: 100%|██████████████████████████████████████████████████████████████████| 100/100 [00:15<00:00,  6.26it/s, SmoothL1Loss=0.00878, MAE=0.0333, RMSE=0.0629, RegLoss=0]\n",
      "WARNING - (NP.forecaster._make_future_dataframe) - Number of forecast steps is defined by n_forecasts. Adjusted to 30.\n"
     ]
    },
    {
     "name": "stdout",
     "output_type": "stream",
     "text": [
      "Compound\n"
     ]
    },
    {
     "name": "stderr",
     "output_type": "stream",
     "text": [
      "Epoch[100/100]: 100%|█████████████████████████████████████████████████████████████████| 100/100 [00:20<00:00,  4.93it/s, SmoothL1Loss=0.0402, MAE=1.21e-5, RMSE=6.39e-5, RegLoss=0]\n",
      "WARNING - (NP.forecaster._make_future_dataframe) - Number of forecast steps is defined by n_forecasts. Adjusted to 30.\n"
     ]
    },
    {
     "name": "stdout",
     "output_type": "stream",
     "text": [
      "cosmos\n"
     ]
    },
    {
     "name": "stderr",
     "output_type": "stream",
     "text": [
      "Epoch[100/100]: 100%|██████████████████████████████████████████████████████████████████████| 100/100 [00:13<00:00,  7.38it/s, SmoothL1Loss=0.00697, MAE=1.46, RMSE=2.35, RegLoss=0]\n",
      "WARNING - (NP.forecaster._make_future_dataframe) - Number of forecast steps is defined by n_forecasts. Adjusted to 30.\n"
     ]
    },
    {
     "name": "stdout",
     "output_type": "stream",
     "text": [
      "crypto.com coin\n"
     ]
    },
    {
     "name": "stderr",
     "output_type": "stream",
     "text": [
      "Epoch[100/100]: 100%|██████████████████████████████████████████████████████████████████| 100/100 [00:19<00:00,  5.24it/s, SmoothL1Loss=0.00545, MAE=0.0227, RMSE=0.0407, RegLoss=0]\n",
      "WARNING - (NP.forecaster._make_future_dataframe) - Number of forecast steps is defined by n_forecasts. Adjusted to 30.\n"
     ]
    },
    {
     "name": "stdout",
     "output_type": "stream",
     "text": [
      "Current Crypto leaderboard\n",
      "Curve DAO Token\n"
     ]
    },
    {
     "name": "stderr",
     "output_type": "stream",
     "text": [
      "Epoch[100/100]: 100%|██████████████████████████████████████████████████████████████████████| 100/100 [00:08<00:00, 11.76it/s, SmoothL1Loss=0.00586, MAE=0.378, RMSE=0.5, RegLoss=0]\n",
      "WARNING - (NP.forecaster._make_future_dataframe) - Number of forecast steps is defined by n_forecasts. Adjusted to 30.\n"
     ]
    },
    {
     "name": "stdout",
     "output_type": "stream",
     "text": [
      "dai\n"
     ]
    },
    {
     "name": "stderr",
     "output_type": "stream",
     "text": [
      "Epoch[100/100]: 100%|████████████████████████████████████████████████████████████████| 100/100 [00:23<00:00,  4.23it/s, SmoothL1Loss=0.00489, MAE=0.00583, RMSE=0.00987, RegLoss=0]\n",
      "WARNING - (NP.forecaster._make_future_dataframe) - Number of forecast steps is defined by n_forecasts. Adjusted to 30.\n"
     ]
    },
    {
     "name": "stdout",
     "output_type": "stream",
     "text": [
      "Dash\n"
     ]
    },
    {
     "name": "stderr",
     "output_type": "stream",
     "text": [
      "Epoch[100/100]: 100%|██████████████████████████████████████████████████████████████████████| 100/100 [00:25<00:00,  3.99it/s, SmoothL1Loss=0.00559, MAE=32.6, RMSE=56.6, RegLoss=0]\n",
      "WARNING - (NP.forecaster._make_future_dataframe) - Number of forecast steps is defined by n_forecasts. Adjusted to 30.\n"
     ]
    },
    {
     "name": "stdout",
     "output_type": "stream",
     "text": [
      "decentraland\n"
     ]
    },
    {
     "name": "stderr",
     "output_type": "stream",
     "text": [
      "Epoch[100/100]: 100%|████████████████████████████████████████████████████████████████████| 100/100 [00:23<00:00,  4.17it/s, SmoothL1Loss=0.00519, MAE=0.122, RMSE=0.262, RegLoss=0]\n",
      "WARNING - (NP.forecaster._make_future_dataframe) - Number of forecast steps is defined by n_forecasts. Adjusted to 30.\n"
     ]
    },
    {
     "name": "stdout",
     "output_type": "stream",
     "text": [
      "Decred\n"
     ]
    },
    {
     "name": "stderr",
     "output_type": "stream",
     "text": [
      "Epoch[100/100]: 100%|███████████████████████████████████████████████████████████████████████| 100/100 [00:25<00:00,  3.97it/s, SmoothL1Loss=0.00348, MAE=8.4, RMSE=12.9, RegLoss=0]\n",
      "WARNING - (NP.forecaster._make_future_dataframe) - Number of forecast steps is defined by n_forecasts. Adjusted to 30.\n"
     ]
    },
    {
     "name": "stdout",
     "output_type": "stream",
     "text": [
      "dogecoin\n"
     ]
    },
    {
     "name": "stderr",
     "output_type": "stream",
     "text": [
      "Epoch[100/100]: 100%|██████████████████████████████████████████████████████████████████| 100/100 [00:28<00:00,  3.49it/s, SmoothL1Loss=0.00876, MAE=0.0136, RMSE=0.0324, RegLoss=0]\n",
      "WARNING - (NP.forecaster._make_future_dataframe) - Number of forecast steps is defined by n_forecasts. Adjusted to 30.\n"
     ]
    },
    {
     "name": "stdout",
     "output_type": "stream",
     "text": [
      "eCash\n"
     ]
    },
    {
     "name": "stderr",
     "output_type": "stream",
     "text": [
      "Epoch[100/100]: 100%|█████████████████████████████████████████████████████████████████| 100/100 [00:03<00:00, 29.84it/s, SmoothL1Loss=0.0201, MAE=3.05e-5, RMSE=4.53e-5, RegLoss=0]\n",
      "WARNING - (NP.forecaster._make_future_dataframe) - Number of forecast steps is defined by n_forecasts. Adjusted to 30.\n"
     ]
    },
    {
     "name": "stdout",
     "output_type": "stream",
     "text": [
      "Elrond\n"
     ]
    },
    {
     "name": "stderr",
     "output_type": "stream",
     "text": [
      "Epoch[100/100]: 100%|████████████████████████████████████████████████████████████████████████| 100/100 [00:08<00:00, 12.14it/s, SmoothL1Loss=0.00871, MAE=29.9, RMSE=40, RegLoss=0]\n",
      "WARNING - (NP.forecaster._make_future_dataframe) - Number of forecast steps is defined by n_forecasts. Adjusted to 30.\n"
     ]
    },
    {
     "name": "stdout",
     "output_type": "stream",
     "text": [
      "Enjin Coin\n"
     ]
    },
    {
     "name": "stderr",
     "output_type": "stream",
     "text": [
      "Epoch[100/100]: 100%|█████████████████████████████████████████████████████████████████████| 100/100 [00:24<00:00,  4.02it/s, SmoothL1Loss=0.0051, MAE=0.118, RMSE=0.243, RegLoss=0]\n",
      "WARNING - (NP.forecaster._make_future_dataframe) - Number of forecast steps is defined by n_forecasts. Adjusted to 30.\n"
     ]
    },
    {
     "name": "stdout",
     "output_type": "stream",
     "text": [
      "EOS\n"
     ]
    },
    {
     "name": "stderr",
     "output_type": "stream",
     "text": [
      "Epoch[100/100]: 100%|█████████████████████████████████████████████████████████████████████| 100/100 [00:25<00:00,  3.97it/s, SmoothL1Loss=0.00961, MAE=0.833, RMSE=1.33, RegLoss=0]\n",
      "WARNING - (NP.forecaster._make_future_dataframe) - Number of forecast steps is defined by n_forecasts. Adjusted to 30.\n"
     ]
    },
    {
     "name": "stdout",
     "output_type": "stream",
     "text": [
      "ethereum classic\n"
     ]
    },
    {
     "name": "stderr",
     "output_type": "stream",
     "text": [
      "Epoch[100/100]: 100%|██████████████████████████████████████████████████████████████████████| 100/100 [00:32<00:00,  3.09it/s, SmoothL1Loss=0.00836, MAE=3.28, RMSE=6.18, RegLoss=0]\n",
      "WARNING - (NP.forecaster._make_future_dataframe) - Number of forecast steps is defined by n_forecasts. Adjusted to 30.\n"
     ]
    },
    {
     "name": "stdout",
     "output_type": "stream",
     "text": [
      "ethereum\n"
     ]
    },
    {
     "name": "stderr",
     "output_type": "stream",
     "text": [
      "Epoch[100/100]: 100%|████████████████████████████████████████████████████████████████████████| 100/100 [00:35<00:00,  2.82it/s, SmoothL1Loss=0.00178, MAE=104, RMSE=196, RegLoss=0]\n",
      "WARNING - (NP.forecaster._make_future_dataframe) - Number of forecast steps is defined by n_forecasts. Adjusted to 30.\n"
     ]
    },
    {
     "name": "stdout",
     "output_type": "stream",
     "text": [
      "fantom\n"
     ]
    },
    {
     "name": "stderr",
     "output_type": "stream",
     "text": [
      "Epoch[100/100]: 100%|████████████████████████████████████████████████████████████████████| 100/100 [00:13<00:00,  7.66it/s, SmoothL1Loss=0.00439, MAE=0.124, RMSE=0.228, RegLoss=0]\n",
      "WARNING - (NP.forecaster._make_future_dataframe) - Number of forecast steps is defined by n_forecasts. Adjusted to 30.\n"
     ]
    },
    {
     "name": "stdout",
     "output_type": "stream",
     "text": [
      "Filecoin\n"
     ]
    },
    {
     "name": "stderr",
     "output_type": "stream",
     "text": [
      "Epoch[100/100]: 100%|███████████████████████████████████████████████████████████████████████| 100/100 [00:31<00:00,  3.14it/s, SmoothL1Loss=0.0103, MAE=4.99, RMSE=10.4, RegLoss=0]\n",
      "WARNING - (NP.forecaster._make_future_dataframe) - Number of forecast steps is defined by n_forecasts. Adjusted to 30.\n"
     ]
    },
    {
     "name": "stdout",
     "output_type": "stream",
     "text": [
      "Flow\n"
     ]
    },
    {
     "name": "stderr",
     "output_type": "stream",
     "text": [
      "Epoch[100/100]: 100%|███████████████████████████████████████████████████████████████████████| 100/100 [00:07<00:00, 13.63it/s, SmoothL1Loss=0.00953, MAE=3.13, RMSE=4.1, RegLoss=0]\n",
      "WARNING - (NP.forecaster._make_future_dataframe) - Number of forecast steps is defined by n_forecasts. Adjusted to 30.\n"
     ]
    },
    {
     "name": "stdout",
     "output_type": "stream",
     "text": [
      "ftx token\n"
     ]
    },
    {
     "name": "stderr",
     "output_type": "stream",
     "text": [
      "Epoch[100/100]: 100%|████████████████████████████████████████████████████████████████████████| 100/100 [00:14<00:00,  6.90it/s, SmoothL1Loss=0.0037, MAE=3.3, RMSE=4.89, RegLoss=0]\n",
      "WARNING - (NP.forecaster._make_future_dataframe) - Number of forecast steps is defined by n_forecasts. Adjusted to 30.\n"
     ]
    },
    {
     "name": "stdout",
     "output_type": "stream",
     "text": [
      "Gala\n",
      "Harmony\n"
     ]
    },
    {
     "name": "stderr",
     "output_type": "stream",
     "text": [
      "Epoch[100/100]: 100%|█████████████████████████████████████████████████████████████████████| 100/100 [00:28<00:00,  3.53it/s, SmoothL1Loss=0.0054, MAE=0.097, RMSE=0.209, RegLoss=0]\n",
      "WARNING - (NP.forecaster._make_future_dataframe) - Number of forecast steps is defined by n_forecasts. Adjusted to 30.\n"
     ]
    },
    {
     "name": "stdout",
     "output_type": "stream",
     "text": [
      "Hedera\n"
     ]
    },
    {
     "name": "stderr",
     "output_type": "stream",
     "text": [
      "Epoch[100/100]: 100%|███████████████████████████████████████████████████████████████████| 100/100 [00:14<00:00,  6.94it/s, SmoothL1Loss=0.0043, MAE=0.0202, RMSE=0.0334, RegLoss=0]\n",
      "WARNING - (NP.forecaster._make_future_dataframe) - Number of forecast steps is defined by n_forecasts. Adjusted to 30.\n"
     ]
    },
    {
     "name": "stdout",
     "output_type": "stream",
     "text": [
      "Helium\n"
     ]
    },
    {
     "name": "stderr",
     "output_type": "stream",
     "text": [
      "Epoch[100/100]: 100%|██████████████████████████████████████████████████████████████████████| 100/100 [00:09<00:00, 10.41it/s, SmoothL1Loss=0.00621, MAE=2.79, RMSE=4.25, RegLoss=0]\n",
      "WARNING - (NP.forecaster._make_future_dataframe) - Number of forecast steps is defined by n_forecasts. Adjusted to 30.\n"
     ]
    },
    {
     "name": "stdout",
     "output_type": "stream",
     "text": [
      "Holo\n"
     ]
    },
    {
     "name": "stderr",
     "output_type": "stream",
     "text": [
      "Epoch[100/100]: 100%|████████████████████████████████████████████████████████████████| 100/100 [00:24<00:00,  4.01it/s, SmoothL1Loss=0.00487, MAE=0.00279, RMSE=0.00513, RegLoss=0]\n",
      "WARNING - (NP.forecaster._make_future_dataframe) - Number of forecast steps is defined by n_forecasts. Adjusted to 30.\n"
     ]
    },
    {
     "name": "stdout",
     "output_type": "stream",
     "text": [
      "Huobi Token\n"
     ]
    },
    {
     "name": "stderr",
     "output_type": "stream",
     "text": [
      "Epoch[100/100]: 100%|██████████████████████████████████████████████████████████████████████| 100/100 [00:25<00:00,  3.91it/s, SmoothL1Loss=0.00895, MAE=1.06, RMSE=1.86, RegLoss=0]\n",
      "WARNING - (NP.forecaster._make_future_dataframe) - Number of forecast steps is defined by n_forecasts. Adjusted to 30.\n"
     ]
    },
    {
     "name": "stdout",
     "output_type": "stream",
     "text": [
      "IOTA\n"
     ]
    },
    {
     "name": "stderr",
     "output_type": "stream",
     "text": [
      "Epoch[100/100]: 100%|████████████████████████████████████████████████████████████████████| 100/100 [00:25<00:00,  3.91it/s, SmoothL1Loss=0.00741, MAE=0.142, RMSE=0.238, RegLoss=0]\n",
      "WARNING - (NP.forecaster._make_future_dataframe) - Number of forecast steps is defined by n_forecasts. Adjusted to 30.\n"
     ]
    },
    {
     "name": "stdout",
     "output_type": "stream",
     "text": [
      "IoTeX\n"
     ]
    },
    {
     "name": "stderr",
     "output_type": "stream",
     "text": [
      "Epoch[100/100]: 100%|██████████████████████████████████████████████████████████████████| 100/100 [00:22<00:00,  4.48it/s, SmoothL1Loss=0.0085, MAE=0.00616, RMSE=0.0126, RegLoss=0]\n",
      "WARNING - (NP.forecaster._make_future_dataframe) - Number of forecast steps is defined by n_forecasts. Adjusted to 30.\n"
     ]
    },
    {
     "name": "stdout",
     "output_type": "stream",
     "text": [
      "Kadena\n"
     ]
    },
    {
     "name": "stderr",
     "output_type": "stream",
     "text": [
      "Epoch[100/100]: 100%|██████████████████████████████████████████████████████████████████████| 100/100 [00:10<00:00,  9.31it/s, SmoothL1Loss=0.0123, MAE=0.878, RMSE=1.99, RegLoss=0]\n",
      "WARNING - (NP.forecaster._make_future_dataframe) - Number of forecast steps is defined by n_forecasts. Adjusted to 30.\n"
     ]
    },
    {
     "name": "stdout",
     "output_type": "stream",
     "text": [
      "Klaytn\n"
     ]
    },
    {
     "name": "stderr",
     "output_type": "stream",
     "text": [
      "Epoch[100/100]: 100%|████████████████████████████████████████████████████████████████████| 100/100 [00:11<00:00,  8.47it/s, SmoothL1Loss=0.00852, MAE=0.217, RMSE=0.334, RegLoss=0]\n",
      "WARNING - (NP.forecaster._make_future_dataframe) - Number of forecast steps is defined by n_forecasts. Adjusted to 30.\n"
     ]
    },
    {
     "name": "stdout",
     "output_type": "stream",
     "text": [
      "KuCoin Token\n"
     ]
    },
    {
     "name": "stderr",
     "output_type": "stream",
     "text": [
      "Epoch[100/100]: 100%|█████████████████████████████████████████████████████████████████████| 100/100 [00:25<00:00,  3.90it/s, SmoothL1Loss=0.00481, MAE=0.871, RMSE=1.72, RegLoss=0]\n",
      "WARNING - (NP.forecaster._make_future_dataframe) - Number of forecast steps is defined by n_forecasts. Adjusted to 30.\n"
     ]
    },
    {
     "name": "stdout",
     "output_type": "stream",
     "text": [
      "Kusama\n"
     ]
    },
    {
     "name": "stderr",
     "output_type": "stream",
     "text": [
      "Epoch[100/100]: 100%|██████████████████████████████████████████████████████████████████████| 100/100 [00:13<00:00,  7.36it/s, SmoothL1Loss=0.00478, MAE=25.3, RMSE=42.4, RegLoss=0]\n",
      "WARNING - (NP.forecaster._make_future_dataframe) - Number of forecast steps is defined by n_forecasts. Adjusted to 30.\n"
     ]
    },
    {
     "name": "stdout",
     "output_type": "stream",
     "text": [
      "litecoin\n"
     ]
    },
    {
     "name": "stderr",
     "output_type": "stream",
     "text": [
      "Epoch[100/100]: 100%|███████████████████████████████████████████████████████████████████████| 100/100 [00:33<00:00,  3.02it/s, SmoothL1Loss=0.0076, MAE=15.6, RMSE=25.4, RegLoss=0]\n",
      "WARNING - (NP.forecaster._make_future_dataframe) - Number of forecast steps is defined by n_forecasts. Adjusted to 30.\n"
     ]
    },
    {
     "name": "stdout",
     "output_type": "stream",
     "text": [
      "Livepeer\n"
     ]
    },
    {
     "name": "stderr",
     "output_type": "stream",
     "text": [
      "Epoch[100/100]: 100%|██████████████████████████████████████████████████████████████████████| 100/100 [00:19<00:00,  5.24it/s, SmoothL1Loss=0.00845, MAE=2.26, RMSE=4.32, RegLoss=0]\n",
      "WARNING - (NP.forecaster._make_future_dataframe) - Number of forecast steps is defined by n_forecasts. Adjusted to 30.\n"
     ]
    },
    {
     "name": "stdout",
     "output_type": "stream",
     "text": [
      "Loopring\n"
     ]
    },
    {
     "name": "stderr",
     "output_type": "stream",
     "text": [
      "Epoch[100/100]: 100%|██████████████████████████████████████████████████████████████████████| 100/100 [00:27<00:00,  3.70it/s, SmoothL1Loss=0.015, MAE=0.102, RMSE=0.206, RegLoss=0]\n",
      "WARNING - (NP.forecaster._make_future_dataframe) - Number of forecast steps is defined by n_forecasts. Adjusted to 30.\n"
     ]
    },
    {
     "name": "stdout",
     "output_type": "stream",
     "text": [
      "Maker\n"
     ]
    },
    {
     "name": "stderr",
     "output_type": "stream",
     "text": [
      "Epoch[100/100]: 100%|████████████████████████████████████████████████████████████████████████| 100/100 [00:24<00:00,  4.01it/s, SmoothL1Loss=0.00416, MAE=168, RMSE=271, RegLoss=0]\n",
      "WARNING - (NP.forecaster._make_future_dataframe) - Number of forecast steps is defined by n_forecasts. Adjusted to 30.\n"
     ]
    },
    {
     "name": "stdout",
     "output_type": "stream",
     "text": [
      "Mina\n"
     ]
    },
    {
     "name": "stderr",
     "output_type": "stream",
     "text": [
      "Epoch[100/100]: 100%|█████████████████████████████████████████████████████████████████████| 100/100 [00:03<00:00, 26.05it/s, SmoothL1Loss=0.0114, MAE=0.497, RMSE=0.644, RegLoss=0]\n",
      "WARNING - (NP.forecaster._make_future_dataframe) - Number of forecast steps is defined by n_forecasts. Adjusted to 30.\n"
     ]
    },
    {
     "name": "stdout",
     "output_type": "stream",
     "text": [
      "Monero\n"
     ]
    },
    {
     "name": "stderr",
     "output_type": "stream",
     "text": [
      "Epoch[100/100]: 100%|██████████████████████████████████████████████████████████████████████| 100/100 [00:25<00:00,  3.91it/s, SmoothL1Loss=0.00506, MAE=18.7, RMSE=28.8, RegLoss=0]\n",
      "WARNING - (NP.forecaster._make_future_dataframe) - Number of forecast steps is defined by n_forecasts. Adjusted to 30.\n"
     ]
    },
    {
     "name": "stdout",
     "output_type": "stream",
     "text": [
      "near protocol\n"
     ]
    },
    {
     "name": "stderr",
     "output_type": "stream",
     "text": [
      "Epoch[100/100]: 100%|██████████████████████████████████████████████████████████████████████| 100/100 [00:07<00:00, 12.62it/s, SmoothL1Loss=0.00419, MAE=0.91, RMSE=1.27, RegLoss=0]\n",
      "WARNING - (NP.forecaster._make_future_dataframe) - Number of forecast steps is defined by n_forecasts. Adjusted to 30.\n"
     ]
    },
    {
     "name": "stdout",
     "output_type": "stream",
     "text": [
      "NEM\n"
     ]
    },
    {
     "name": "stderr",
     "output_type": "stream",
     "text": [
      "Epoch[100/100]: 100%|███████████████████████████████████████████████████████████████████| 100/100 [00:25<00:00,  3.89it/s, SmoothL1Loss=0.0152, MAE=0.0404, RMSE=0.0822, RegLoss=0]\n",
      "WARNING - (NP.forecaster._make_future_dataframe) - Number of forecast steps is defined by n_forecasts. Adjusted to 30.\n"
     ]
    },
    {
     "name": "stdout",
     "output_type": "stream",
     "text": [
      "Neo\n"
     ]
    },
    {
     "name": "stderr",
     "output_type": "stream",
     "text": [
      "Epoch[100/100]: 100%|██████████████████████████████████████████████████████████████████████| 100/100 [00:25<00:00,  3.91it/s, SmoothL1Loss=0.00634, MAE=5.45, RMSE=9.85, RegLoss=0]\n",
      "WARNING - (NP.forecaster._make_future_dataframe) - Number of forecast steps is defined by n_forecasts. Adjusted to 30.\n"
     ]
    },
    {
     "name": "stdout",
     "output_type": "stream",
     "text": [
      "Nexo\n"
     ]
    },
    {
     "name": "stderr",
     "output_type": "stream",
     "text": [
      "Epoch[100/100]: 100%|████████████████████████████████████████████████████████████████████| 100/100 [00:23<00:00,  4.20it/s, SmoothL1Loss=0.00462, MAE=0.131, RMSE=0.254, RegLoss=0]\n",
      "WARNING - (NP.forecaster._make_future_dataframe) - Number of forecast steps is defined by n_forecasts. Adjusted to 30.\n"
     ]
    },
    {
     "name": "stdout",
     "output_type": "stream",
     "text": [
      "Oasis Network\n"
     ]
    },
    {
     "name": "stderr",
     "output_type": "stream",
     "text": [
      "Epoch[100/100]: 100%|███████████████████████████████████████████████████████████████████| 100/100 [00:07<00:00, 14.15it/s, SmoothL1Loss=0.00572, MAE=0.0252, RMSE=0.036, RegLoss=0]\n",
      "WARNING - (NP.forecaster._make_future_dataframe) - Number of forecast steps is defined by n_forecasts. Adjusted to 30.\n"
     ]
    },
    {
     "name": "stdout",
     "output_type": "stream",
     "text": [
      "OKB\n"
     ]
    },
    {
     "name": "stderr",
     "output_type": "stream",
     "text": [
      "Epoch[100/100]: 100%|███████████████████████████████████████████████████████████████████████| 100/100 [00:16<00:00,  6.20it/s, SmoothL1Loss=0.00679, MAE=1.73, RMSE=2.9, RegLoss=0]\n",
      "WARNING - (NP.forecaster._make_future_dataframe) - Number of forecast steps is defined by n_forecasts. Adjusted to 30.\n"
     ]
    },
    {
     "name": "stdout",
     "output_type": "stream",
     "text": [
      "OMG Network\n"
     ]
    },
    {
     "name": "stderr",
     "output_type": "stream",
     "text": [
      "Epoch[100/100]: 100%|███████████████████████████████████████████████████████████████████████| 100/100 [00:25<00:00,  3.89it/s, SmoothL1Loss=0.0066, MAE=1.03, RMSE=1.74, RegLoss=0]\n",
      "WARNING - (NP.forecaster._make_future_dataframe) - Number of forecast steps is defined by n_forecasts. Adjusted to 30.\n"
     ]
    },
    {
     "name": "stdout",
     "output_type": "stream",
     "text": [
      "PancakeSwap\n"
     ]
    },
    {
     "name": "stderr",
     "output_type": "stream",
     "text": [
      "Epoch[100/100]: 100%|███████████████████████████████████████████████████████████████████████| 100/100 [00:08<00:00, 12.07it/s, SmoothL1Loss=0.0127, MAE=2.78, RMSE=4.14, RegLoss=0]\n",
      "WARNING - (NP.forecaster._make_future_dataframe) - Number of forecast steps is defined by n_forecasts. Adjusted to 30.\n"
     ]
    },
    {
     "name": "stdout",
     "output_type": "stream",
     "text": [
      "Pax Dollar\n"
     ]
    },
    {
     "name": "stderr",
     "output_type": "stream",
     "text": [
      "Epoch[100/100]: 100%|████████████████████████████████████████████████████████████████| 100/100 [00:20<00:00,  4.97it/s, SmoothL1Loss=0.00407, MAE=0.00235, RMSE=0.00377, RegLoss=0]\n",
      "WARNING - (NP.forecaster._make_future_dataframe) - Number of forecast steps is defined by n_forecasts. Adjusted to 30.\n"
     ]
    },
    {
     "name": "stdout",
     "output_type": "stream",
     "text": [
      "polkadot\n"
     ]
    },
    {
     "name": "stderr",
     "output_type": "stream",
     "text": [
      "Epoch[100/100]: 100%|███████████████████████████████████████████████████████████████████████| 100/100 [00:08<00:00, 11.31it/s, SmoothL1Loss=0.0087, MAE=4.01, RMSE=5.27, RegLoss=0]\n",
      "WARNING - (NP.forecaster._make_future_dataframe) - Number of forecast steps is defined by n_forecasts. Adjusted to 30.\n"
     ]
    },
    {
     "name": "stdout",
     "output_type": "stream",
     "text": [
      "polygon\n"
     ]
    },
    {
     "name": "stderr",
     "output_type": "stream",
     "text": [
      "Epoch[100/100]: 100%|███████████████████████████████████████████████████████████████████| 100/100 [00:15<00:00,  6.44it/s, SmoothL1Loss=0.00313, MAE=0.0818, RMSE=0.156, RegLoss=0]\n",
      "WARNING - (NP.forecaster._make_future_dataframe) - Number of forecast steps is defined by n_forecasts. Adjusted to 30.\n"
     ]
    },
    {
     "name": "stdout",
     "output_type": "stream",
     "text": [
      "Quant\n"
     ]
    },
    {
     "name": "stderr",
     "output_type": "stream",
     "text": [
      "Epoch[100/100]: 100%|██████████████████████████████████████████████████████████████████████| 100/100 [00:22<00:00,  4.43it/s, SmoothL1Loss=0.00349, MAE=9.19, RMSE=19.4, RegLoss=0]\n",
      "WARNING - (NP.forecaster._make_future_dataframe) - Number of forecast steps is defined by n_forecasts. Adjusted to 30.\n"
     ]
    },
    {
     "name": "stdout",
     "output_type": "stream",
     "text": [
      "Ravencoin\n"
     ]
    },
    {
     "name": "stderr",
     "output_type": "stream",
     "text": [
      "Epoch[100/100]: 100%|██████████████████████████████████████████████████████████████████| 100/100 [00:23<00:00,  4.18it/s, SmoothL1Loss=0.00867, MAE=0.0113, RMSE=0.0183, RegLoss=0]\n",
      "WARNING - (NP.forecaster._make_future_dataframe) - Number of forecast steps is defined by n_forecasts. Adjusted to 30.\n"
     ]
    },
    {
     "name": "stdout",
     "output_type": "stream",
     "text": [
      "Secret\n"
     ]
    },
    {
     "name": "stderr",
     "output_type": "stream",
     "text": [
      "Epoch[100/100]: 100%|████████████████████████████████████████████████████████████████████| 100/100 [00:07<00:00, 12.71it/s, SmoothL1Loss=0.00595, MAE=0.572, RMSE=0.813, RegLoss=0]\n",
      "WARNING - (NP.forecaster._make_future_dataframe) - Number of forecast steps is defined by n_forecasts. Adjusted to 30.\n"
     ]
    },
    {
     "name": "stdout",
     "output_type": "stream",
     "text": [
      "SHIBA INU\n"
     ]
    },
    {
     "name": "stderr",
     "output_type": "stream",
     "text": [
      "Epoch[100/100]: 100%|████████████████████████████████████████████████████████████████| 100/100 [00:09<00:00, 10.63it/s, SmoothL1Loss=0.00959, MAE=3.32e-6, RMSE=5.89e-6, RegLoss=0]\n",
      "WARNING - (NP.forecaster._make_future_dataframe) - Number of forecast steps is defined by n_forecasts. Adjusted to 30.\n"
     ]
    },
    {
     "name": "stdout",
     "output_type": "stream",
     "text": [
      "solana\n"
     ]
    },
    {
     "name": "stderr",
     "output_type": "stream",
     "text": [
      "Epoch[100/100]: 100%|██████████████████████████████████████████████████████████████████████| 100/100 [00:10<00:00,  9.43it/s, SmoothL1Loss=0.00373, MAE=9.99, RMSE=16.9, RegLoss=0]\n",
      "WARNING - (NP.forecaster._make_future_dataframe) - Number of forecast steps is defined by n_forecasts. Adjusted to 30.\n"
     ]
    },
    {
     "name": "stdout",
     "output_type": "stream",
     "text": [
      "Sperax\n"
     ]
    },
    {
     "name": "stderr",
     "output_type": "stream",
     "text": [
      "Epoch[100/100]: 100%|█████████████████████████████████████████████████████████████████| 100/100 [00:08<00:00, 11.99it/s, SmoothL1Loss=0.0073, MAE=0.00594, RMSE=0.00961, RegLoss=0]\n",
      "WARNING - (NP.forecaster._make_future_dataframe) - Number of forecast steps is defined by n_forecasts. Adjusted to 30.\n"
     ]
    },
    {
     "name": "stdout",
     "output_type": "stream",
     "text": [
      "Stacks\n"
     ]
    },
    {
     "name": "stderr",
     "output_type": "stream",
     "text": [
      "Epoch[100/100]: 100%|████████████████████████████████████████████████████████████████████| 100/100 [00:13<00:00,  7.18it/s, SmoothL1Loss=0.00516, MAE=0.125, RMSE=0.213, RegLoss=0]\n",
      "WARNING - (NP.forecaster._make_future_dataframe) - Number of forecast steps is defined by n_forecasts. Adjusted to 30.\n"
     ]
    },
    {
     "name": "stdout",
     "output_type": "stream",
     "text": [
      "stellar\n"
     ]
    },
    {
     "name": "stderr",
     "output_type": "stream",
     "text": [
      "Epoch[100/100]: 100%|███████████████████████████████████████████████████████████████████| 100/100 [00:30<00:00,  3.27it/s, SmoothL1Loss=0.00885, MAE=0.0354, RMSE=0.057, RegLoss=0]\n",
      "WARNING - (NP.forecaster._make_future_dataframe) - Number of forecast steps is defined by n_forecasts. Adjusted to 30.\n"
     ]
    },
    {
     "name": "stdout",
     "output_type": "stream",
     "text": [
      "terra\n"
     ]
    },
    {
     "name": "stderr",
     "output_type": "stream",
     "text": [
      "Epoch[100/100]: 100%|██████████████████████████████████████████████████████████████████████| 100/100 [00:09<00:00, 10.87it/s, SmoothL1Loss=0.00222, MAE=3.33, RMSE=5.05, RegLoss=0]\n",
      "WARNING - (NP.forecaster._make_future_dataframe) - Number of forecast steps is defined by n_forecasts. Adjusted to 30.\n"
     ]
    },
    {
     "name": "stdout",
     "output_type": "stream",
     "text": [
      "TerraUSD\n"
     ]
    },
    {
     "name": "stderr",
     "output_type": "stream",
     "text": [
      "Epoch[100/100]: 100%|█████████████████████████████████████████████████████████████████| 100/100 [00:06<00:00, 14.29it/s, SmoothL1Loss=0.00273, MAE=0.00481, RMSE=0.0107, RegLoss=0]\n",
      "WARNING - (NP.forecaster._make_future_dataframe) - Number of forecast steps is defined by n_forecasts. Adjusted to 30.\n"
     ]
    },
    {
     "name": "stdout",
     "output_type": "stream",
     "text": [
      "tether\n"
     ]
    },
    {
     "name": "stderr",
     "output_type": "stream",
     "text": [
      "Epoch[100/100]: 100%|█████████████████████████████████████████████████████████████████| 100/100 [00:28<00:00,  3.49it/s, SmoothL1Loss=0.00152, MAE=0.00314, RMSE=0.0057, RegLoss=0]\n",
      "WARNING - (NP.forecaster._make_future_dataframe) - Number of forecast steps is defined by n_forecasts. Adjusted to 30.\n"
     ]
    },
    {
     "name": "stdout",
     "output_type": "stream",
     "text": [
      "Tezos\n"
     ]
    },
    {
     "name": "stderr",
     "output_type": "stream",
     "text": [
      "Epoch[100/100]: 100%|████████████████████████████████████████████████████████████████████| 100/100 [00:25<00:00,  3.85it/s, SmoothL1Loss=0.00726, MAE=0.463, RMSE=0.681, RegLoss=0]\n",
      "WARNING - (NP.forecaster._make_future_dataframe) - Number of forecast steps is defined by n_forecasts. Adjusted to 30.\n"
     ]
    },
    {
     "name": "stdout",
     "output_type": "stream",
     "text": [
      "The Graph\n"
     ]
    },
    {
     "name": "stderr",
     "output_type": "stream",
     "text": [
      "Epoch[100/100]: 100%|████████████████████████████████████████████████████████████████████████| 100/100 [00:09<00:00, 10.69it/s, SmoothL1Loss=0.061, MAE=2.39, RMSE=4.26, RegLoss=0]\n",
      "WARNING - (NP.forecaster._make_future_dataframe) - Number of forecast steps is defined by n_forecasts. Adjusted to 30.\n"
     ]
    },
    {
     "name": "stdout",
     "output_type": "stream",
     "text": [
      "The Sandbox\n"
     ]
    },
    {
     "name": "stderr",
     "output_type": "stream",
     "text": [
      "Epoch[100/100]: 100%|████████████████████████████████████████████████████████████████████| 100/100 [00:09<00:00, 11.00it/s, SmoothL1Loss=0.00702, MAE=0.373, RMSE=0.611, RegLoss=0]\n",
      "WARNING - (NP.forecaster._make_future_dataframe) - Number of forecast steps is defined by n_forecasts. Adjusted to 30.\n"
     ]
    },
    {
     "name": "stdout",
     "output_type": "stream",
     "text": [
      "Theta Fuel\n"
     ]
    },
    {
     "name": "stderr",
     "output_type": "stream",
     "text": [
      "Epoch[100/100]: 100%|██████████████████████████████████████████████████████████████████| 100/100 [00:17<00:00,  5.57it/s, SmoothL1Loss=0.00604, MAE=0.0214, RMSE=0.0397, RegLoss=0]\n",
      "WARNING - (NP.forecaster._make_future_dataframe) - Number of forecast steps is defined by n_forecasts. Adjusted to 30.\n"
     ]
    },
    {
     "name": "stdout",
     "output_type": "stream",
     "text": [
      "Theta Network\n"
     ]
    },
    {
     "name": "stderr",
     "output_type": "stream",
     "text": [
      "Epoch[100/100]: 100%|████████████████████████████████████████████████████████████████████| 100/100 [00:24<00:00,  4.05it/s, SmoothL1Loss=0.00478, MAE=0.363, RMSE=0.778, RegLoss=0]\n",
      "WARNING - (NP.forecaster._make_future_dataframe) - Number of forecast steps is defined by n_forecasts. Adjusted to 30.\n"
     ]
    },
    {
     "name": "stdout",
     "output_type": "stream",
     "text": [
      "THORChain\n"
     ]
    },
    {
     "name": "stderr",
     "output_type": "stream",
     "text": [
      "Epoch[100/100]: 100%|██████████████████████████████████████████████████████████████████████| 100/100 [00:15<00:00,  6.36it/s, SmoothL1Loss=0.00777, MAE=0.876, RMSE=1.6, RegLoss=0]\n",
      "WARNING - (NP.forecaster._make_future_dataframe) - Number of forecast steps is defined by n_forecasts. Adjusted to 30.\n"
     ]
    },
    {
     "name": "stdout",
     "output_type": "stream",
     "text": [
      "tron\n"
     ]
    },
    {
     "name": "stderr",
     "output_type": "stream",
     "text": [
      "Epoch[100/100]: 100%|█████████████████████████████████████████████████████████████████| 100/100 [00:25<00:00,  3.99it/s, SmoothL1Loss=0.00856, MAE=0.00724, RMSE=0.0127, RegLoss=0]\n",
      "WARNING - (NP.forecaster._make_future_dataframe) - Number of forecast steps is defined by n_forecasts. Adjusted to 30.\n"
     ]
    },
    {
     "name": "stdout",
     "output_type": "stream",
     "text": [
      "TrueUSD\n"
     ]
    },
    {
     "name": "stderr",
     "output_type": "stream",
     "text": [
      "Epoch[100/100]: 100%|████████████████████████████████████████████████████████████████| 100/100 [00:23<00:00,  4.29it/s, SmoothL1Loss=0.00586, MAE=0.00264, RMSE=0.00475, RegLoss=0]\n",
      "WARNING - (NP.forecaster._make_future_dataframe) - Number of forecast steps is defined by n_forecasts. Adjusted to 30.\n"
     ]
    },
    {
     "name": "stdout",
     "output_type": "stream",
     "text": [
      "uniswap\n"
     ]
    },
    {
     "name": "stderr",
     "output_type": "stream",
     "text": [
      "Epoch[100/100]: 100%|███████████████████████████████████████████████████████████████████████| 100/100 [00:07<00:00, 13.15it/s, SmoothL1Loss=0.0102, MAE=3.75, RMSE=4.77, RegLoss=0]\n",
      "WARNING - (NP.forecaster._make_future_dataframe) - Number of forecast steps is defined by n_forecasts. Adjusted to 30.\n"
     ]
    },
    {
     "name": "stdout",
     "output_type": "stream",
     "text": [
      "unus sed leo\n"
     ]
    },
    {
     "name": "stderr",
     "output_type": "stream",
     "text": [
      "Epoch[100/100]: 100%|███████████████████████████████████████████████████████████████████| 100/100 [00:16<00:00,  6.20it/s, SmoothL1Loss=0.00183, MAE=0.0965, RMSE=0.161, RegLoss=0]\n",
      "WARNING - (NP.forecaster._make_future_dataframe) - Number of forecast steps is defined by n_forecasts. Adjusted to 30.\n"
     ]
    },
    {
     "name": "stdout",
     "output_type": "stream",
     "text": [
      "usd coin\n"
     ]
    },
    {
     "name": "stderr",
     "output_type": "stream",
     "text": [
      "Epoch[100/100]: 100%|████████████████████████████████████████████████████████████████| 100/100 [00:19<00:00,  5.22it/s, SmoothL1Loss=0.00189, MAE=0.00381, RMSE=0.00873, RegLoss=0]\n",
      "WARNING - (NP.forecaster._make_future_dataframe) - Number of forecast steps is defined by n_forecasts. Adjusted to 30.\n"
     ]
    },
    {
     "name": "stdout",
     "output_type": "stream",
     "text": [
      "vechain\n"
     ]
    },
    {
     "name": "stderr",
     "output_type": "stream",
     "text": [
      "Epoch[100/100]: 100%|██████████████████████████████████████████████████████████████████████| 100/100 [00:25<00:00,  3.91it/s, SmoothL1Loss=0.00815, MAE=0.2, RMSE=0.481, RegLoss=0]\n",
      "WARNING - (NP.forecaster._make_future_dataframe) - Number of forecast steps is defined by n_forecasts. Adjusted to 30.\n"
     ]
    },
    {
     "name": "stdout",
     "output_type": "stream",
     "text": [
      "Waves\n"
     ]
    },
    {
     "name": "stderr",
     "output_type": "stream",
     "text": [
      "Epoch[100/100]: 100%|██████████████████████████████████████████████████████████████████████| 100/100 [00:26<00:00,  3.79it/s, SmoothL1Loss=0.00501, MAE=1.26, RMSE=2.37, RegLoss=0]\n",
      "WARNING - (NP.forecaster._make_future_dataframe) - Number of forecast steps is defined by n_forecasts. Adjusted to 30.\n"
     ]
    },
    {
     "name": "stdout",
     "output_type": "stream",
     "text": [
      "wrapped bitcoin\n"
     ]
    },
    {
     "name": "stderr",
     "output_type": "stream",
     "text": [
      "Epoch[100/100]: 100%|████████████████████████████████████████████████████████████████| 100/100 [00:07<00:00, 13.40it/s, SmoothL1Loss=0.00603, MAE=3.96e+3, RMSE=4.88e+3, RegLoss=0]\n",
      "WARNING - (NP.forecaster._make_future_dataframe) - Number of forecast steps is defined by n_forecasts. Adjusted to 30.\n"
     ]
    },
    {
     "name": "stdout",
     "output_type": "stream",
     "text": [
      "XDC Network\n"
     ]
    },
    {
     "name": "stderr",
     "output_type": "stream",
     "text": [
      "Epoch[100/100]: 100%|██████████████████████████████████████████████████████████████████| 100/100 [00:23<00:00,  4.27it/s, SmoothL1Loss=0.00486, MAE=0.0046, RMSE=0.0103, RegLoss=0]\n",
      "WARNING - (NP.forecaster._make_future_dataframe) - Number of forecast steps is defined by n_forecasts. Adjusted to 30.\n"
     ]
    },
    {
     "name": "stdout",
     "output_type": "stream",
     "text": [
      "xrp\n"
     ]
    },
    {
     "name": "stderr",
     "output_type": "stream",
     "text": [
      "Epoch[100/100]: 100%|████████████████████████████████████████████████████████████████████| 100/100 [00:42<00:00,  2.33it/s, SmoothL1Loss=0.0107, MAE=0.0734, RMSE=0.144, RegLoss=0]\n",
      "WARNING - (NP.forecaster._make_future_dataframe) - Number of forecast steps is defined by n_forecasts. Adjusted to 30.\n"
     ]
    },
    {
     "name": "stdout",
     "output_type": "stream",
     "text": [
      "yearn.finance\n"
     ]
    },
    {
     "name": "stderr",
     "output_type": "stream",
     "text": [
      "Epoch[100/100]: 100%|█████████████████████████████████████████████████████████████████| 100/100 [00:09<00:00, 10.66it/s, SmoothL1Loss=0.00806, MAE=4.3e+3, RMSE=5.91e+3, RegLoss=0]\n",
      "WARNING - (NP.forecaster._make_future_dataframe) - Number of forecast steps is defined by n_forecasts. Adjusted to 30.\n"
     ]
    },
    {
     "name": "stdout",
     "output_type": "stream",
     "text": [
      "Zcash\n"
     ]
    },
    {
     "name": "stderr",
     "output_type": "stream",
     "text": [
      "Epoch[100/100]: 100%|██████████████████████████████████████████████████████████████████████| 100/100 [00:25<00:00,  3.93it/s, SmoothL1Loss=0.00556, MAE=21.9, RMSE=35.9, RegLoss=0]\n",
      "WARNING - (NP.forecaster._make_future_dataframe) - Number of forecast steps is defined by n_forecasts. Adjusted to 30.\n"
     ]
    }
   ],
   "source": [
    "tickers = glob.glob(\"../../data/crypto/Top 100 Crypto Coins/*.csv\")\n",
    "tick_start = \"../../data/crypto/Top 100 Crypto Coins/\"\n",
    "for file in tickers:\n",
    "    try: \n",
    "        df = pd.read_csv(file)\n",
    "        name = file[file.find(tick_start) + len(tick_start) + 1:file.find(\".csv\")]\n",
    "        print(name)\n",
    "        df[\"ds\"] = pd.to_datetime(df.Date)\n",
    "        df[\"y\"] = df[\"Close\"]\n",
    "        df = df[[\"y\", \"ds\"]]\n",
    "\n",
    "        df = pd.concat([df, pd.DataFrame({\"ds\": (pd.date_range(df.ds.min(), df.ds.max())).difference(df.ds), \n",
    "                           \"y\": np.NaN})])\n",
    "        df = df.sort_values(by=\"ds\")\n",
    "        df = df.fillna(method = 'pad').reset_index(drop = True)\n",
    "\n",
    "        prophet = NeuralProphet(\n",
    "            n_forecasts=30,\n",
    "            n_lags=20,\n",
    "            yearly_seasonality=False,\n",
    "            weekly_seasonality=True,\n",
    "            daily_seasonality=False,\n",
    "            batch_size=16,\n",
    "            epochs=100,\n",
    "            learning_rate=0.01\n",
    "        )\n",
    "        \n",
    "        metrics = prophet.fit(df, freq = \"D\")\n",
    "        \n",
    "        future = prophet.make_future_dataframe(df, periods=60, n_historic_predictions=30) #we need to specify the number of days in future\n",
    "        prediction = prophet.predict(future)\n",
    "\n",
    "        output = prediction.loc[53:][[\"ds\", \"yhat30\"]]\n",
    "        output[\"symbol\"] = name\n",
    "        output.to_csv(f\"crypto_forecasts/{name}.csv\", index = False)\n",
    "    except KeyboardInterrupt: \n",
    "        break\n",
    "    except: \n",
    "        continue"
   ]
  }
 ],
 "metadata": {
  "kernelspec": {
   "display_name": "Python 3 (ipykernel)",
   "language": "python",
   "name": "python3"
  },
  "language_info": {
   "codemirror_mode": {
    "name": "ipython",
    "version": 3
   },
   "file_extension": ".py",
   "mimetype": "text/x-python",
   "name": "python",
   "nbconvert_exporter": "python",
   "pygments_lexer": "ipython3",
   "version": "3.8.0"
  }
 },
 "nbformat": 4,
 "nbformat_minor": 5
}
