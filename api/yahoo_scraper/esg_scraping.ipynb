{
 "cells": [
  {
   "cell_type": "code",
   "execution_count": 16,
   "id": "b093a933",
   "metadata": {},
   "outputs": [],
   "source": [
    "import pandas as pd \n",
    "import numpy as np \n",
    "import re\n",
    "\n",
    "from time import sleep\n",
    "from selenium import webdriver\n",
    "from selenium.webdriver.common.keys import Keys\n",
    "from selenium.webdriver.common.by import By\n",
    "from selenium.webdriver.chrome.service import Service\n",
    "from selenium.webdriver.support.ui import Select\n",
    "from selenium.common.exceptions import NoSuchElementException"
   ]
  },
  {
   "cell_type": "code",
   "execution_count": 52,
   "id": "a037ef49",
   "metadata": {},
   "outputs": [
    {
     "name": "stdout",
     "output_type": "stream",
     "text": [
      "['AAPL', 'ABNB', 'ACGL', 'ACQRW', 'ADBE', 'ADI', 'ADP', 'ADSK', 'AEP', 'AGNCP', 'AHPAW', 'AKAM', 'ALCO', 'ALGN', 'ALNY', 'AMAT', 'AMD', 'AMGN', 'AMZN', 'ANSS', 'ANTE', 'APP', 'ASML', 'ATVI', 'AUUDW', 'AVGO', 'AZN', 'BANFP', 'BBQ', 'BGNE', 'BIDU', 'BIIB', 'BJDX', 'BKNG', 'BKR', 'BLEUR', 'BMRN', 'BNGO', 'BNTX', 'CATC', 'CCEP', 'CDNS', 'CDW', 'CEG', 'CERN', 'CFIVU', 'CG', 'CHI', 'CHKP', 'CHTR', 'CINF', 'CMCAU', 'CMCSA', 'CME', 'CNET', 'COIN', 'COST', 'CPRT', 'CRNC', 'CRWD', 'CSCO', 'CSGP', 'CSIQ', 'CSX', 'CTAS', 'CTSH', 'CYTHW', 'CYTO', 'CZR', 'DCOMP', 'DCRDU', 'DDOG', 'DISCA', 'DISCB', 'DISCK', 'DISH', 'DLTR', 'DOCU', 'DXCM', 'EA', 'EBAY', 'ELEV', 'ENPH', 'ENTG', 'EOSE', 'EQIX', 'ERIC', 'ESQ', 'ETSY', 'EXC', 'EXPD', 'EXPE', 'FANG', 'FAST', 'FB', 'FISV', 'FITB', 'FLNT', 'FOX', 'FOXA', 'FTNT', 'FWONK', 'GET', 'GFS', 'GILD', 'GMAB', 'GNAC', 'GOEV', 'GOOG', 'GOOGL', 'GRAB', 'HBAN', 'HGEN', 'HOLX', 'HON', 'HPK', 'HZNP', 'ICLR', 'IDXX', 'IEP', 'IGIC', 'ILMN', 'IMKTA', 'INCY', 'INTC', 'INTU', 'INVZ', 'IQMD', 'ISRG', 'JBHT', 'JD', 'JSPRW', 'KDP', 'KERN', 'KHC', 'KLAC', 'LBRDA', 'LBRDK', 'LBTYB', 'LCID', 'LI', 'LINC', 'LLL', 'LRCX', 'LSXMA', 'LSXMB', 'LSXMK', 'LTRN', 'LULU', 'LYFT', 'MAR', 'MASI', 'MBIO', 'MCHP', 'MDB', 'MDLZ', 'MELI', 'METCL', 'MGNX', 'MNKD', 'MNMD', 'MNSB', 'MNST', 'MNTV', 'MPAC', 'MPRAW', 'MPWR', 'MRNA', 'MRVL', 'MSFT', 'MTCH', 'MU', 'MVST', 'NAOV', 'NDAQ', 'NESR', 'NFLX', 'NICE', 'NKTR', 'NLOK', 'NMIH', 'NRBO', 'NTAP', 'NTES', 'NTRS', 'NUAN', 'NVCT', 'NVDA', 'NXPI', 'OBLG', 'ODFL', 'OKTA', 'ON', 'OPHC', 'ORLY', 'PALI', 'PANW', 'PARA', 'PARAA', 'PAYX', 'PCAR', 'PDD', 'PEP', 'PESI', 'PFG', 'PLBC', 'PMD', 'PODD', 'POOL', 'PYPL', 'QCOM', 'QTEKW', 'REGN', 'RELIW', 'REVBW', 'REVEU', 'RIVN', 'RNERW', 'ROKU', 'ROST', 'RPRX', 'RSVR', 'RVLP', 'RYAAY', 'SBAC', 'SBNY', 'SBUX', 'SGEN', 'SGLY', 'SGMA', 'SHCR', 'SIRI', 'SIVB', 'SKIN', 'SLAM', 'SLGCW', 'SMIH', 'SNPS', 'SNY', 'SPLK', 'SSNC', 'STER', 'STX', 'SVFC', 'SWKS', 'TCOM', 'TCPC', 'TEAM', 'TECH', 'TENX', 'TER', 'THCPU', 'TLSA', 'TMKRW', 'TMUS', 'TRKA', 'TRMB', 'TROW', 'TSCO', 'TSLA', 'TTD', 'TTWO', 'TW', 'TWST', 'TXN', 'TXRH', 'UAL', 'UCBI', 'ULTA', 'USAU', 'UTAA', 'VCKA', 'VENAW', 'VEON', 'VLGEA', 'VOD', 'VORB', 'VRAR', 'VRAY', 'VRSK', 'VRSN', 'VRTX', 'VTRS', 'VTRU', 'WBA', 'WDAY', 'WDC', 'WETF', 'WMG', 'WNW', 'WTW', 'XEL', 'XM', 'XP', 'YNDX', 'Z', 'ZBRA', 'ZG', 'ZI', 'ZM', 'ZS']\n"
     ]
    }
   ],
   "source": [
    "import glob \n",
    "done = glob.glob(\"stocks/*.csv\")\n",
    "done = [item[7: item.find(\".csv\")] for item in done]\n",
    "print(done)"
   ]
  },
  {
   "cell_type": "code",
   "execution_count": 2,
   "id": "2ab608fc",
   "metadata": {},
   "outputs": [],
   "source": [
    "stocks = pd.read_csv(\"nasdaq.csv\")\n",
    "symbols = list(stocks.sort_values(by = \"Market Cap\", ascending = False)[\"Symbol\"][:200])"
   ]
  },
  {
   "cell_type": "code",
   "execution_count": 4,
   "id": "4afb62d8",
   "metadata": {},
   "outputs": [
    {
     "name": "stdout",
     "output_type": "stream",
     "text": [
      "https://www.morningstar.com/stocks/xnas/msft/sustainability\n"
     ]
    }
   ],
   "source": [
    "tick = 'msft'\n",
    "link = f\"https://www.morningstar.com/stocks/xnas/{tick}/sustainability\"\n",
    "print(link)"
   ]
  },
  {
   "cell_type": "code",
   "execution_count": 7,
   "id": "79c4f601",
   "metadata": {},
   "outputs": [],
   "source": [
    "df = pd.DataFrame({\"symbols\": symbols})\n",
    "df[\"link\"] = df.apply(lambda row: f\"https://www.morningstar.com/stocks/xnas/{row.symbols}/sustainability\", axis = 1)"
   ]
  },
  {
   "cell_type": "code",
   "execution_count": 19,
   "id": "b00c4365",
   "metadata": {},
   "outputs": [],
   "source": [
    "ser = Service(\"D:/ugahacks7/api/yahoo_scraper/chromedriver_win32/chromedriver.exe\")\n",
    "driver = webdriver.Chrome(service = ser)\n",
    "driver.get(link)"
   ]
  },
  {
   "cell_type": "code",
   "execution_count": 23,
   "id": "34496e30",
   "metadata": {
    "scrolled": true
   },
   "outputs": [
    {
     "name": "stdout",
     "output_type": "stream",
     "text": [
      "Data Privacy & Security\n",
      "Overall\n",
      "Human Capital\n",
      "Overall\n",
      "Business Ethics\n",
      "Overall\n"
     ]
    }
   ],
   "source": [
    "for item in driver.find_elements(By.CLASS_NAME, \"issues-content\"): \n",
    "    print(item.text)"
   ]
  },
  {
   "cell_type": "code",
   "execution_count": 42,
   "id": "c5ea0600",
   "metadata": {},
   "outputs": [
    {
     "name": "stdout",
     "output_type": "stream",
     "text": [
      "4\n"
     ]
    }
   ],
   "source": [
    "rating = driver.find_element(By.CLASS_NAME, \"sal-eqsv-sustainability-rating\")\n",
    "score = len(rating.find_element(By.CLASS_NAME, \"rating-content\").find_elements(By.CLASS_NAME, \"rating\"))\n",
    "print(score)"
   ]
  },
  {
   "cell_type": "code",
   "execution_count": 47,
   "id": "827d3a9d",
   "metadata": {},
   "outputs": [
    {
     "name": "stdout",
     "output_type": "stream",
     "text": [
      "13.26\n",
      "Low\n"
     ]
    }
   ],
   "source": [
    "risk = driver.find_element(By.CLASS_NAME, \"sal-si__flag-text\").text\n",
    "print(risk)"
   ]
  },
  {
   "cell_type": "code",
   "execution_count": 48,
   "id": "dd1bb295",
   "metadata": {},
   "outputs": [
    {
     "data": {
      "text/plain": [
       "'Incidents: Customer'"
      ]
     },
     "execution_count": 48,
     "metadata": {},
     "output_type": "execute_result"
    }
   ],
   "source": [
    "driver.find_element(By.CLASS_NAME, \"incidents\").text"
   ]
  },
  {
   "cell_type": "code",
   "execution_count": 63,
   "id": "b63cbc88",
   "metadata": {},
   "outputs": [],
   "source": [
    "df[\"data\"] = \"\"\n",
    "for i, row in df.iterrows(): \n",
    "    driver.get(row.link)\n",
    "    sleep(2)\n",
    "    issues = []\n",
    "    for item in driver.find_elements(By.CLASS_NAME, \"issues-content\"): \n",
    "        if item.text != 'Overall':\n",
    "            issues.append(item.text)\n",
    "        \n",
    "    rating = driver.find_element(By.CLASS_NAME, \"sal-eqsv-sustainability-rating\")\n",
    "    score = len(rating.find_element(By.CLASS_NAME, \"rating-content\").find_elements(By.CLASS_NAME, \"rating\"))\n",
    "    \n",
    "    incidents = driver.find_element(By.CLASS_NAME, \"incidents\").text\n",
    "    df.loc[i, \"data\"] = (issues, score, incidents)\n",
    "    \n",
    "    if i == 10: \n",
    "        break"
   ]
  },
  {
   "cell_type": "code",
   "execution_count": 64,
   "id": "5981b3d5",
   "metadata": {},
   "outputs": [
    {
     "data": {
      "text/html": [
       "<div>\n",
       "<style scoped>\n",
       "    .dataframe tbody tr th:only-of-type {\n",
       "        vertical-align: middle;\n",
       "    }\n",
       "\n",
       "    .dataframe tbody tr th {\n",
       "        vertical-align: top;\n",
       "    }\n",
       "\n",
       "    .dataframe thead th {\n",
       "        text-align: right;\n",
       "    }\n",
       "</style>\n",
       "<table border=\"1\" class=\"dataframe\">\n",
       "  <thead>\n",
       "    <tr style=\"text-align: right;\">\n",
       "      <th></th>\n",
       "      <th>symbols</th>\n",
       "      <th>link</th>\n",
       "      <th>data</th>\n",
       "    </tr>\n",
       "  </thead>\n",
       "  <tbody>\n",
       "    <tr>\n",
       "      <th>0</th>\n",
       "      <td>AAPL</td>\n",
       "      <td>https://www.morningstar.com/stocks/xnas/AAPL/s...</td>\n",
       "      <td>([Business Ethics\\nOverall\\nHuman Capital\\nOve...</td>\n",
       "    </tr>\n",
       "    <tr>\n",
       "      <th>1</th>\n",
       "      <td>MSFT</td>\n",
       "      <td>https://www.morningstar.com/stocks/xnas/MSFT/s...</td>\n",
       "      <td>([Data Privacy &amp; Security\\nOverall\\nHuman Capi...</td>\n",
       "    </tr>\n",
       "    <tr>\n",
       "      <th>2</th>\n",
       "      <td>GOOG</td>\n",
       "      <td>https://www.morningstar.com/stocks/xnas/GOOG/s...</td>\n",
       "      <td>([Business Ethics\\nOverall\\nHuman Capital\\nOve...</td>\n",
       "    </tr>\n",
       "    <tr>\n",
       "      <th>3</th>\n",
       "      <td>GOOGL</td>\n",
       "      <td>https://www.morningstar.com/stocks/xnas/GOOGL/...</td>\n",
       "      <td>([Business Ethics\\nOverall\\nHuman Capital\\nOve...</td>\n",
       "    </tr>\n",
       "    <tr>\n",
       "      <th>4</th>\n",
       "      <td>AMZN</td>\n",
       "      <td>https://www.morningstar.com/stocks/xnas/AMZN/s...</td>\n",
       "      <td>([Business Ethics\\nOverall\\nData Privacy &amp; Sec...</td>\n",
       "    </tr>\n",
       "    <tr>\n",
       "      <th>5</th>\n",
       "      <td>TSLA</td>\n",
       "      <td>https://www.morningstar.com/stocks/xnas/TSLA/s...</td>\n",
       "      <td>([Product Governance\\nOverall\\nHuman Capital\\n...</td>\n",
       "    </tr>\n",
       "    <tr>\n",
       "      <th>6</th>\n",
       "      <td>NVDA</td>\n",
       "      <td>https://www.morningstar.com/stocks/xnas/NVDA/s...</td>\n",
       "      <td>([Business Ethics\\nOverall\\nHuman Capital\\nOve...</td>\n",
       "    </tr>\n",
       "    <tr>\n",
       "      <th>7</th>\n",
       "      <td>FB</td>\n",
       "      <td>https://www.morningstar.com/stocks/xnas/FB/sus...</td>\n",
       "      <td>([Data Privacy &amp; Security\\nOverall\\nProduct Go...</td>\n",
       "    </tr>\n",
       "    <tr>\n",
       "      <th>8</th>\n",
       "      <td>NTES</td>\n",
       "      <td>https://www.morningstar.com/stocks/xnas/NTES/s...</td>\n",
       "      <td>([Human Capital\\nOverall\\nData Privacy &amp; Secur...</td>\n",
       "    </tr>\n",
       "    <tr>\n",
       "      <th>9</th>\n",
       "      <td>ASML</td>\n",
       "      <td>https://www.morningstar.com/stocks/xnas/ASML/s...</td>\n",
       "      <td>([Business Ethics\\nOverall\\nHuman Capital\\nOve...</td>\n",
       "    </tr>\n",
       "  </tbody>\n",
       "</table>\n",
       "</div>"
      ],
      "text/plain": [
       "  symbols                                               link  \\\n",
       "0    AAPL  https://www.morningstar.com/stocks/xnas/AAPL/s...   \n",
       "1    MSFT  https://www.morningstar.com/stocks/xnas/MSFT/s...   \n",
       "2    GOOG  https://www.morningstar.com/stocks/xnas/GOOG/s...   \n",
       "3   GOOGL  https://www.morningstar.com/stocks/xnas/GOOGL/...   \n",
       "4    AMZN  https://www.morningstar.com/stocks/xnas/AMZN/s...   \n",
       "5    TSLA  https://www.morningstar.com/stocks/xnas/TSLA/s...   \n",
       "6    NVDA  https://www.morningstar.com/stocks/xnas/NVDA/s...   \n",
       "7      FB  https://www.morningstar.com/stocks/xnas/FB/sus...   \n",
       "8    NTES  https://www.morningstar.com/stocks/xnas/NTES/s...   \n",
       "9    ASML  https://www.morningstar.com/stocks/xnas/ASML/s...   \n",
       "\n",
       "                                                data  \n",
       "0  ([Business Ethics\\nOverall\\nHuman Capital\\nOve...  \n",
       "1  ([Data Privacy & Security\\nOverall\\nHuman Capi...  \n",
       "2  ([Business Ethics\\nOverall\\nHuman Capital\\nOve...  \n",
       "3  ([Business Ethics\\nOverall\\nHuman Capital\\nOve...  \n",
       "4  ([Business Ethics\\nOverall\\nData Privacy & Sec...  \n",
       "5  ([Product Governance\\nOverall\\nHuman Capital\\n...  \n",
       "6  ([Business Ethics\\nOverall\\nHuman Capital\\nOve...  \n",
       "7  ([Data Privacy & Security\\nOverall\\nProduct Go...  \n",
       "8  ([Human Capital\\nOverall\\nData Privacy & Secur...  \n",
       "9  ([Business Ethics\\nOverall\\nHuman Capital\\nOve...  "
      ]
     },
     "execution_count": 64,
     "metadata": {},
     "output_type": "execute_result"
    }
   ],
   "source": []
  }
 ],
 "metadata": {
  "kernelspec": {
   "display_name": "Python 3 (ipykernel)",
   "language": "python",
   "name": "python3"
  },
  "language_info": {
   "codemirror_mode": {
    "name": "ipython",
    "version": 3
   },
   "file_extension": ".py",
   "mimetype": "text/x-python",
   "name": "python",
   "nbconvert_exporter": "python",
   "pygments_lexer": "ipython3",
   "version": "3.8.0"
  }
 },
 "nbformat": 4,
 "nbformat_minor": 5
}
