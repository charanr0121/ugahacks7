{
 "cells": [
  {
   "cell_type": "code",
   "execution_count": 1,
   "id": "d8a03684",
   "metadata": {},
   "outputs": [],
   "source": [
    "import pandas as pd \n",
    "import numpy as np "
   ]
  },
  {
   "cell_type": "code",
   "execution_count": 254,
   "id": "dc2fa69b",
   "metadata": {},
   "outputs": [
    {
     "data": {
      "text/html": [
       "<div>\n",
       "<style scoped>\n",
       "    .dataframe tbody tr th:only-of-type {\n",
       "        vertical-align: middle;\n",
       "    }\n",
       "\n",
       "    .dataframe tbody tr th {\n",
       "        vertical-align: top;\n",
       "    }\n",
       "\n",
       "    .dataframe thead th {\n",
       "        text-align: right;\n",
       "    }\n",
       "</style>\n",
       "<table border=\"1\" class=\"dataframe\">\n",
       "  <thead>\n",
       "    <tr style=\"text-align: right;\">\n",
       "      <th></th>\n",
       "      <th>y</th>\n",
       "      <th>ds</th>\n",
       "    </tr>\n",
       "  </thead>\n",
       "  <tbody>\n",
       "    <tr>\n",
       "      <th>0</th>\n",
       "      <td>0.330</td>\n",
       "      <td>2022-02-04 05:00:00</td>\n",
       "    </tr>\n",
       "    <tr>\n",
       "      <th>1</th>\n",
       "      <td>0.300</td>\n",
       "      <td>2022-02-07 05:00:00</td>\n",
       "    </tr>\n",
       "    <tr>\n",
       "      <th>2</th>\n",
       "      <td>0.300</td>\n",
       "      <td>2022-02-08 05:00:00</td>\n",
       "    </tr>\n",
       "    <tr>\n",
       "      <th>3</th>\n",
       "      <td>0.340</td>\n",
       "      <td>2022-02-09 05:00:00</td>\n",
       "    </tr>\n",
       "    <tr>\n",
       "      <th>4</th>\n",
       "      <td>0.400</td>\n",
       "      <td>2022-02-10 05:00:00</td>\n",
       "    </tr>\n",
       "    <tr>\n",
       "      <th>5</th>\n",
       "      <td>0.325</td>\n",
       "      <td>2022-02-11 05:00:00</td>\n",
       "    </tr>\n",
       "    <tr>\n",
       "      <th>6</th>\n",
       "      <td>0.340</td>\n",
       "      <td>2022-02-14 05:00:00</td>\n",
       "    </tr>\n",
       "    <tr>\n",
       "      <th>7</th>\n",
       "      <td>0.330</td>\n",
       "      <td>2022-02-15 05:00:00</td>\n",
       "    </tr>\n",
       "    <tr>\n",
       "      <th>8</th>\n",
       "      <td>0.320</td>\n",
       "      <td>2022-02-16 05:00:00</td>\n",
       "    </tr>\n",
       "    <tr>\n",
       "      <th>9</th>\n",
       "      <td>0.310</td>\n",
       "      <td>2022-02-17 05:00:00</td>\n",
       "    </tr>\n",
       "  </tbody>\n",
       "</table>\n",
       "</div>"
      ],
      "text/plain": [
       "       y                  ds\n",
       "0  0.330 2022-02-04 05:00:00\n",
       "1  0.300 2022-02-07 05:00:00\n",
       "2  0.300 2022-02-08 05:00:00\n",
       "3  0.340 2022-02-09 05:00:00\n",
       "4  0.400 2022-02-10 05:00:00\n",
       "5  0.325 2022-02-11 05:00:00\n",
       "6  0.340 2022-02-14 05:00:00\n",
       "7  0.330 2022-02-15 05:00:00\n",
       "8  0.320 2022-02-16 05:00:00\n",
       "9  0.310 2022-02-17 05:00:00"
      ]
     },
     "execution_count": 254,
     "metadata": {},
     "output_type": "execute_result"
    }
   ],
   "source": [
    "df = pd.read_csv(\"../../data/history/AHRNW.csv\")\n",
    "# df = pd.read_csv(\"GOOG.csv\")\n",
    "df[\"ds\"] = pd.to_datetime(df.time)\n",
    "df[\"y\"] = df[\"close_price\"]\n",
    "# df['ds'] = pd.to_datetime(df.Date)\n",
    "# df['y'] = df['Close']\n",
    "df = df[[\"y\", \"ds\"]]\n",
    "df"
   ]
  },
  {
   "cell_type": "code",
   "execution_count": 225,
   "id": "a7abf3de",
   "metadata": {},
   "outputs": [],
   "source": [
    "df = pd.concat([df, pd.DataFrame({\"ds\": (pd.date_range(df.ds.min(), df.ds.max())).difference(df.ds), \n",
    "                       \"y\": np.NaN})])\n",
    "df = df.sort_values(by=\"ds\")\n",
    "df = df.fillna(method = 'pad').reset_index(drop = True)"
   ]
  },
  {
   "cell_type": "code",
   "execution_count": 226,
   "id": "9d7ed7ad",
   "metadata": {},
   "outputs": [],
   "source": [
    "split = int(len(df)*0.75)\n",
    "train = df.iloc[:split]\n",
    "test = df.iloc[split - 10:]"
   ]
  },
  {
   "cell_type": "code",
   "execution_count": 227,
   "id": "42986339",
   "metadata": {},
   "outputs": [
    {
     "name": "stderr",
     "output_type": "stream",
     "text": [
      "Epoch[500/500]: 100%|█████████████████████████████████████████████████████████████████████| 500/500 [00:22<00:00, 22.23it/s, SmoothL1Loss=0.0337, MAE=0.225, RMSE=0.385, RegLoss=0]\n"
     ]
    }
   ],
   "source": [
    "from neuralprophet import NeuralProphet\n",
    "prophet = NeuralProphet(\n",
    "    n_forecasts=30,\n",
    "    n_lags=20,\n",
    "    yearly_seasonality=False,\n",
    "    weekly_seasonality=True,\n",
    "    daily_seasonality=False,\n",
    "    batch_size=24,\n",
    "    normalize = 'standardize', \n",
    "    epochs=500,\n",
    "    learning_rate=0.01,\n",
    ")\n",
    "\n",
    "# prophet = NeuralProphet(\n",
    "#     batch_size = 10,\n",
    "#     learning_rate = 0.05,\n",
    "#     normalize = 'standardize', \n",
    "#     impute_missing=True, \n",
    "#     epochs = 1000\n",
    "# )\n",
    "\n",
    "metrics = prophet.fit(train, freq = \"D\")"
   ]
  },
  {
   "cell_type": "code",
   "execution_count": 242,
   "id": "5e40fbb0",
   "metadata": {},
   "outputs": [],
   "source": [
    "forecast = prophet.predict(test)\n",
    "forecast = forecast[60:]"
   ]
  },
  {
   "cell_type": "code",
   "execution_count": 250,
   "id": "87c8fa02",
   "metadata": {},
   "outputs": [],
   "source": [
    "y = forecast.y\n",
    "yhat = forecast.yhat5\n",
    "x = forecast.ds"
   ]
  },
  {
   "cell_type": "code",
   "execution_count": 251,
   "id": "12689dcb",
   "metadata": {},
   "outputs": [
    {
     "data": {
      "text/plain": [
       "60        26.184\n",
       "61     26.202625\n",
       "62      26.13446\n",
       "63     26.064344\n",
       "64     26.095026\n",
       "         ...    \n",
       "200    25.954607\n",
       "201    25.938349\n",
       "202     25.89744\n",
       "203    25.822342\n",
       "204    25.946342\n",
       "Name: yhat5, Length: 145, dtype: object"
      ]
     },
     "execution_count": 251,
     "metadata": {},
     "output_type": "execute_result"
    }
   ],
   "source": [
    "yhat"
   ]
  },
  {
   "cell_type": "code",
   "execution_count": 179,
   "id": "f2175e47",
   "metadata": {},
   "outputs": [],
   "source": [
    "empty_test = test.copy()\n",
    "empty_test.y = np.NaN"
   ]
  },
  {
   "cell_type": "code",
   "execution_count": 252,
   "id": "13209d27",
   "metadata": {},
   "outputs": [
    {
     "data": {
      "text/plain": [
       "-1.807140434221734"
      ]
     },
     "execution_count": 252,
     "metadata": {},
     "output_type": "execute_result"
    }
   ],
   "source": [
    "MSE(y, yhat)\n",
    "r2(y, yhat)"
   ]
  },
  {
   "cell_type": "code",
   "execution_count": 95,
   "id": "9aab50fd",
   "metadata": {},
   "outputs": [],
   "source": [
    "from sklearn.metrics import mean_squared_error as MSE \n",
    "from sklearn.metrics import r2_score as r2\n",
    "import matplotlib.pyplot as plt"
   ]
  },
  {
   "cell_type": "code",
   "execution_count": 253,
   "id": "3817a8ba",
   "metadata": {},
   "outputs": [
    {
     "data": {
      "text/plain": [
       "[<matplotlib.lines.Line2D at 0x15cbedfc850>]"
      ]
     },
     "execution_count": 253,
     "metadata": {},
     "output_type": "execute_result"
    },
    {
     "data": {
      "image/png": "[encoded data removed]",
      "text/plain": [
       "<Figure size 432x288 with 1 Axes>"
      ]
     },
     "metadata": {
      "needs_background": "light"
     },
     "output_type": "display_data"
    }
   ],
   "source": [
    "plt.plot(x, y)\n",
    "plt.plot(x, yhat)"
   ]
  },
  {
   "cell_type": "code",
   "execution_count": 169,
   "id": "e8938d2e",
   "metadata": {},
   "outputs": [
    {
     "data": {
      "text/plain": [
       "[<matplotlib.lines.Line2D at 0x15cbdaa1730>]"
      ]
     },
     "execution_count": 169,
     "metadata": {},
     "output_type": "execute_result"
    },
    {
     "data": {
      "image/png": "[encoded data removed]",
      "text/plain": [
       "<Figure size 432x288 with 1 Axes>"
      ]
     },
     "metadata": {
      "needs_background": "light"
     },
     "output_type": "display_data"
    }
   ],
   "source": [
    "plt.plot(train['ds'], train['y'])\n",
    "plt.plot(x, y)\n",
    "plt.plot(x, yhat)"
   ]
  },
  {
   "cell_type": "code",
   "execution_count": 194,
   "id": "7cc06503",
   "metadata": {},
   "outputs": [
    {
     "name": "stderr",
     "output_type": "stream",
     "text": [
      "WARNING - (NP.forecaster._make_future_dataframe) - Number of forecast steps is defined by n_forecasts. Adjusted to 10.\n"
     ]
    },
    {
     "ename": "ValueError",
     "evalue": "need at least one array to concatenate",
     "output_type": "error",
     "traceback": [
      "\u001b[1;31m---------------------------------------------------------------------------\u001b[0m",
      "\u001b[1;31mValueError\u001b[0m                                Traceback (most recent call last)",
      "\u001b[1;32m~\\AppData\\Local\\Temp/ipykernel_26256/1886075496.py\u001b[0m in \u001b[0;36m<module>\u001b[1;34m\u001b[0m\n\u001b[0;32m      1\u001b[0m \u001b[0mdf_future\u001b[0m \u001b[1;33m=\u001b[0m \u001b[0mprophet\u001b[0m\u001b[1;33m.\u001b[0m\u001b[0mmake_future_dataframe\u001b[0m\u001b[1;33m(\u001b[0m\u001b[0mtrain\u001b[0m\u001b[1;33m,\u001b[0m \u001b[0mperiods\u001b[0m\u001b[1;33m=\u001b[0m\u001b[1;36m1\u001b[0m\u001b[1;33m)\u001b[0m\u001b[1;33m\u001b[0m\u001b[1;33m\u001b[0m\u001b[0m\n\u001b[1;32m----> 2\u001b[1;33m \u001b[0mprophet\u001b[0m\u001b[1;33m.\u001b[0m\u001b[0mpredict\u001b[0m\u001b[1;33m(\u001b[0m\u001b[0mdf_future\u001b[0m\u001b[1;33m)\u001b[0m\u001b[1;33m\u001b[0m\u001b[1;33m\u001b[0m\u001b[0m\n\u001b[0m",
      "\u001b[1;32m~\\.conda\\envs\\tour\\lib\\site-packages\\neuralprophet\\forecaster.py\u001b[0m in \u001b[0;36mpredict\u001b[1;34m(self, df, decompose, raw)\u001b[0m\n\u001b[0;32m   1359\u001b[0m             \u001b[0mdf\u001b[0m\u001b[1;33m,\u001b[0m \u001b[0mperiods_added\u001b[0m \u001b[1;33m=\u001b[0m \u001b[0mself\u001b[0m\u001b[1;33m.\u001b[0m\u001b[0m_maybe_extend_df\u001b[0m\u001b[1;33m(\u001b[0m\u001b[0mdf\u001b[0m\u001b[1;33m)\u001b[0m\u001b[1;33m\u001b[0m\u001b[1;33m\u001b[0m\u001b[0m\n\u001b[0;32m   1360\u001b[0m             \u001b[0mdf\u001b[0m \u001b[1;33m=\u001b[0m \u001b[0mself\u001b[0m\u001b[1;33m.\u001b[0m\u001b[0m_prepare_dataframe_to_predict\u001b[0m\u001b[1;33m(\u001b[0m\u001b[0mdf\u001b[0m\u001b[1;33m)\u001b[0m\u001b[1;33m\u001b[0m\u001b[1;33m\u001b[0m\u001b[0m\n\u001b[1;32m-> 1361\u001b[1;33m             \u001b[0mdates\u001b[0m\u001b[1;33m,\u001b[0m \u001b[0mpredicted\u001b[0m\u001b[1;33m,\u001b[0m \u001b[0mcomponents\u001b[0m \u001b[1;33m=\u001b[0m \u001b[0mself\u001b[0m\u001b[1;33m.\u001b[0m\u001b[0m_predict_raw\u001b[0m\u001b[1;33m(\u001b[0m\u001b[0mdf\u001b[0m\u001b[1;33m,\u001b[0m \u001b[0minclude_components\u001b[0m\u001b[1;33m=\u001b[0m\u001b[0mdecompose\u001b[0m\u001b[1;33m)\u001b[0m\u001b[1;33m\u001b[0m\u001b[1;33m\u001b[0m\u001b[0m\n\u001b[0m\u001b[0;32m   1362\u001b[0m             \u001b[1;32mif\u001b[0m \u001b[0mraw\u001b[0m\u001b[1;33m:\u001b[0m\u001b[1;33m\u001b[0m\u001b[1;33m\u001b[0m\u001b[0m\n\u001b[0;32m   1363\u001b[0m                 \u001b[0mfcst\u001b[0m \u001b[1;33m=\u001b[0m \u001b[0mself\u001b[0m\u001b[1;33m.\u001b[0m\u001b[0m_convert_raw_predictions_to_raw_df\u001b[0m\u001b[1;33m(\u001b[0m\u001b[0mdates\u001b[0m\u001b[1;33m,\u001b[0m \u001b[0mpredicted\u001b[0m\u001b[1;33m,\u001b[0m \u001b[0mcomponents\u001b[0m\u001b[1;33m)\u001b[0m\u001b[1;33m\u001b[0m\u001b[1;33m\u001b[0m\u001b[0m\n",
      "\u001b[1;32m~\\.conda\\envs\\tour\\lib\\site-packages\\neuralprophet\\forecaster.py\u001b[0m in \u001b[0;36m_predict_raw\u001b[1;34m(self, df, include_components)\u001b[0m\n\u001b[0;32m   1210\u001b[0m                             \u001b[0mcomponent_vectors\u001b[0m\u001b[1;33m[\u001b[0m\u001b[0mname\u001b[0m\u001b[1;33m]\u001b[0m\u001b[1;33m.\u001b[0m\u001b[0mappend\u001b[0m\u001b[1;33m(\u001b[0m\u001b[0mvalue\u001b[0m\u001b[1;33m.\u001b[0m\u001b[0mdetach\u001b[0m\u001b[1;33m(\u001b[0m\u001b[1;33m)\u001b[0m\u001b[1;33m.\u001b[0m\u001b[0mnumpy\u001b[0m\u001b[1;33m(\u001b[0m\u001b[1;33m)\u001b[0m\u001b[1;33m)\u001b[0m\u001b[1;33m\u001b[0m\u001b[1;33m\u001b[0m\u001b[0m\n\u001b[0;32m   1211\u001b[0m \u001b[1;33m\u001b[0m\u001b[0m\n\u001b[1;32m-> 1212\u001b[1;33m         \u001b[0mpredicted\u001b[0m \u001b[1;33m=\u001b[0m \u001b[0mnp\u001b[0m\u001b[1;33m.\u001b[0m\u001b[0mconcatenate\u001b[0m\u001b[1;33m(\u001b[0m\u001b[0mpredicted_vectors\u001b[0m\u001b[1;33m)\u001b[0m\u001b[1;33m\u001b[0m\u001b[1;33m\u001b[0m\u001b[0m\n\u001b[0m\u001b[0;32m   1213\u001b[0m         \u001b[0mscale_y\u001b[0m\u001b[1;33m,\u001b[0m \u001b[0mshift_y\u001b[0m \u001b[1;33m=\u001b[0m \u001b[0mself\u001b[0m\u001b[1;33m.\u001b[0m\u001b[0mdata_params\u001b[0m\u001b[1;33m[\u001b[0m\u001b[1;34m\"y\"\u001b[0m\u001b[1;33m]\u001b[0m\u001b[1;33m.\u001b[0m\u001b[0mscale\u001b[0m\u001b[1;33m,\u001b[0m \u001b[0mself\u001b[0m\u001b[1;33m.\u001b[0m\u001b[0mdata_params\u001b[0m\u001b[1;33m[\u001b[0m\u001b[1;34m\"y\"\u001b[0m\u001b[1;33m]\u001b[0m\u001b[1;33m.\u001b[0m\u001b[0mshift\u001b[0m\u001b[1;33m\u001b[0m\u001b[1;33m\u001b[0m\u001b[0m\n\u001b[0;32m   1214\u001b[0m         \u001b[0mpredicted\u001b[0m \u001b[1;33m=\u001b[0m \u001b[0mpredicted\u001b[0m \u001b[1;33m*\u001b[0m \u001b[0mscale_y\u001b[0m \u001b[1;33m+\u001b[0m \u001b[0mshift_y\u001b[0m\u001b[1;33m\u001b[0m\u001b[1;33m\u001b[0m\u001b[0m\n",
      "\u001b[1;32m<__array_function__ internals>\u001b[0m in \u001b[0;36mconcatenate\u001b[1;34m(*args, **kwargs)\u001b[0m\n",
      "\u001b[1;31mValueError\u001b[0m: need at least one array to concatenate"
     ]
    }
   ],
   "source": [
    "df_future = prophet.make_future_dataframe(train, periods=1)\n",
    "prophet.predict(df_future)"
   ]
  },
  {
   "cell_type": "code",
   "execution_count": 193,
   "id": "8ed232dd",
   "metadata": {},
   "outputs": [
    {
     "data": {
      "text/html": [
       "<div>\n",
       "<style scoped>\n",
       "    .dataframe tbody tr th:only-of-type {\n",
       "        vertical-align: middle;\n",
       "    }\n",
       "\n",
       "    .dataframe tbody tr th {\n",
       "        vertical-align: top;\n",
       "    }\n",
       "\n",
       "    .dataframe thead th {\n",
       "        text-align: right;\n",
       "    }\n",
       "</style>\n",
       "<table border=\"1\" class=\"dataframe\">\n",
       "  <thead>\n",
       "    <tr style=\"text-align: right;\">\n",
       "      <th></th>\n",
       "      <th>y</th>\n",
       "      <th>ds</th>\n",
       "    </tr>\n",
       "  </thead>\n",
       "  <tbody>\n",
       "    <tr>\n",
       "      <th>0</th>\n",
       "      <td>144.98</td>\n",
       "      <td>2021-07-28 05:00:00</td>\n",
       "    </tr>\n",
       "    <tr>\n",
       "      <th>1</th>\n",
       "      <td>145.64</td>\n",
       "      <td>2021-07-29 04:00:00</td>\n",
       "    </tr>\n",
       "    <tr>\n",
       "      <th>2</th>\n",
       "      <td>145.64</td>\n",
       "      <td>2021-07-29 05:00:00</td>\n",
       "    </tr>\n",
       "    <tr>\n",
       "      <th>3</th>\n",
       "      <td>145.86</td>\n",
       "      <td>2021-07-30 04:00:00</td>\n",
       "    </tr>\n",
       "    <tr>\n",
       "      <th>4</th>\n",
       "      <td>145.86</td>\n",
       "      <td>2021-07-30 05:00:00</td>\n",
       "    </tr>\n",
       "    <tr>\n",
       "      <th>5</th>\n",
       "      <td>145.86</td>\n",
       "      <td>2021-07-31 05:00:00</td>\n",
       "    </tr>\n",
       "    <tr>\n",
       "      <th>6</th>\n",
       "      <td>145.86</td>\n",
       "      <td>2021-08-01 05:00:00</td>\n",
       "    </tr>\n",
       "    <tr>\n",
       "      <th>7</th>\n",
       "      <td>145.52</td>\n",
       "      <td>2021-08-02 04:00:00</td>\n",
       "    </tr>\n",
       "    <tr>\n",
       "      <th>8</th>\n",
       "      <td>145.52</td>\n",
       "      <td>2021-08-02 05:00:00</td>\n",
       "    </tr>\n",
       "    <tr>\n",
       "      <th>9</th>\n",
       "      <td>147.36</td>\n",
       "      <td>2021-08-03 04:00:00</td>\n",
       "    </tr>\n",
       "    <tr>\n",
       "      <th>10</th>\n",
       "      <td>NaN</td>\n",
       "      <td>2021-08-04 04:00:00</td>\n",
       "    </tr>\n",
       "    <tr>\n",
       "      <th>11</th>\n",
       "      <td>NaN</td>\n",
       "      <td>2021-08-05 04:00:00</td>\n",
       "    </tr>\n",
       "    <tr>\n",
       "      <th>12</th>\n",
       "      <td>NaN</td>\n",
       "      <td>2021-08-06 04:00:00</td>\n",
       "    </tr>\n",
       "    <tr>\n",
       "      <th>13</th>\n",
       "      <td>NaN</td>\n",
       "      <td>2021-08-07 04:00:00</td>\n",
       "    </tr>\n",
       "    <tr>\n",
       "      <th>14</th>\n",
       "      <td>NaN</td>\n",
       "      <td>2021-08-08 04:00:00</td>\n",
       "    </tr>\n",
       "    <tr>\n",
       "      <th>15</th>\n",
       "      <td>NaN</td>\n",
       "      <td>2021-08-09 04:00:00</td>\n",
       "    </tr>\n",
       "    <tr>\n",
       "      <th>16</th>\n",
       "      <td>NaN</td>\n",
       "      <td>2021-08-10 04:00:00</td>\n",
       "    </tr>\n",
       "    <tr>\n",
       "      <th>17</th>\n",
       "      <td>NaN</td>\n",
       "      <td>2021-08-11 04:00:00</td>\n",
       "    </tr>\n",
       "    <tr>\n",
       "      <th>18</th>\n",
       "      <td>NaN</td>\n",
       "      <td>2021-08-12 04:00:00</td>\n",
       "    </tr>\n",
       "    <tr>\n",
       "      <th>19</th>\n",
       "      <td>NaN</td>\n",
       "      <td>2021-08-13 04:00:00</td>\n",
       "    </tr>\n",
       "  </tbody>\n",
       "</table>\n",
       "</div>"
      ],
      "text/plain": [
       "         y                  ds\n",
       "0   144.98 2021-07-28 05:00:00\n",
       "1   145.64 2021-07-29 04:00:00\n",
       "2   145.64 2021-07-29 05:00:00\n",
       "3   145.86 2021-07-30 04:00:00\n",
       "4   145.86 2021-07-30 05:00:00\n",
       "5   145.86 2021-07-31 05:00:00\n",
       "6   145.86 2021-08-01 05:00:00\n",
       "7   145.52 2021-08-02 04:00:00\n",
       "8   145.52 2021-08-02 05:00:00\n",
       "9   147.36 2021-08-03 04:00:00\n",
       "10     NaN 2021-08-04 04:00:00\n",
       "11     NaN 2021-08-05 04:00:00\n",
       "12     NaN 2021-08-06 04:00:00\n",
       "13     NaN 2021-08-07 04:00:00\n",
       "14     NaN 2021-08-08 04:00:00\n",
       "15     NaN 2021-08-09 04:00:00\n",
       "16     NaN 2021-08-10 04:00:00\n",
       "17     NaN 2021-08-11 04:00:00\n",
       "18     NaN 2021-08-12 04:00:00\n",
       "19     NaN 2021-08-13 04:00:00"
      ]
     },
     "execution_count": 193,
     "metadata": {},
     "output_type": "execute_result"
    }
   ],
   "source": [
    "df_future"
   ]
  }
 ],
 "metadata": {
  "kernelspec": {
   "display_name": "Python 3 (ipykernel)",
   "language": "python",
   "name": "python3"
  },
  "language_info": {
   "codemirror_mode": {
    "name": "ipython",
    "version": 3
   },
   "file_extension": ".py",
   "mimetype": "text/x-python",
   "name": "python",
   "nbconvert_exporter": "python",
   "pygments_lexer": "ipython3",
   "version": "3.8.0"
  }
 },
 "nbformat": 4,
 "nbformat_minor": 5
}
