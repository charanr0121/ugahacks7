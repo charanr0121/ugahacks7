{
 "cells": [
  {
   "cell_type": "code",
   "execution_count": 1,
   "id": "b8aa4c43",
   "metadata": {},
   "outputs": [],
   "source": [
    "import pandas as pd \n",
    "import numpy as np \n",
    "import requests \n",
    "import json"
   ]
  },
  {
   "cell_type": "code",
   "execution_count": 3,
   "id": "85942504",
   "metadata": {},
   "outputs": [
    {
     "data": {
      "text/plain": [
       "array(['1inch', 'Aave', 'algorand', 'Amp', 'Arweave', 'Audius',\n",
       "       'avalanche', 'Axie_Infinity', 'Basic_Attention_Token',\n",
       "       'Binance_USD', 'Bitcoin_BEP2', 'bitcoin_cash', 'Bitcoin_SV',\n",
       "       'bitcoin', 'BNB', 'BORA', 'cardano', 'Celo', 'Celsius',\n",
       "       'chainlink', 'Chiliz', 'Compound', 'cosmos', 'crypto.com_coin',\n",
       "       'Current_Crypto_leaderboard', 'Curve_DAO_Token', 'dai', 'Dash',\n",
       "       'decentraland', 'Decred', 'dogecoin', 'eCash', 'Elrond',\n",
       "       'Enjin_Coin', 'EOS', 'ethereum_classic', 'ethereum', 'fantom',\n",
       "       'Filecoin', 'Flow', 'ftx_token', 'Gala', 'Harmony', 'Hedera',\n",
       "       'Helium', 'Holo', 'Huobi_Token', 'IOTA', 'IoTeX', 'Kadena',\n",
       "       'Klaytn', 'KuCoin_Token', 'Kusama', 'litecoin', 'Livepeer',\n",
       "       'Loopring', 'Maker', 'Mina', 'Monero', 'near_protocol', 'NEM',\n",
       "       'Neo', 'Nexo', 'Oasis_Network', 'OKB', 'OMG_Network',\n",
       "       'PancakeSwap', 'Pax_Dollar', 'polkadot', 'polygon', 'Quant',\n",
       "       'Ravencoin', 'Secret', 'SHIBA_INU', 'solana', 'Sperax', 'Stacks',\n",
       "       'stellar', 'terra', 'TerraUSD', 'tether', 'Tezos', 'The_Graph',\n",
       "       'The_Sandbox', 'Theta_Fuel', 'Theta_Network', 'THORChain', 'tron',\n",
       "       'TrueUSD', 'uniswap', 'unus_sed_leo', 'usd_coin', 'vechain',\n",
       "       'Waves', 'wrapped_bitcoin', 'XDC_Network', 'xrp', 'yearn.finance',\n",
       "       'Zcash'], dtype=object)"
      ]
     },
     "execution_count": 3,
     "metadata": {},
     "output_type": "execute_result"
    }
   ],
   "source": [
    "crypto = pd.read_csv(\"../../data/all_crypto.csv\")\n",
    "unique = crypto.name.unique()"
   ]
  },
  {
   "cell_type": "code",
   "execution_count": 6,
   "id": "d3549c61",
   "metadata": {},
   "outputs": [],
   "source": [
    "top_10 = [\"bitcoin\", \"ethereum\", \"tether\", \"Binance_USD\", \"usd_coin\", \n",
    "          \"cardano\", \"solana\", \"xrp\", \"terra\", \"polkadot\"]\n",
    "\n",
    "crypto_sus = pd.DataFrame({\"name\" : top_10}).to_csv(\"crypto_sus.csv\")"
   ]
  }
 ],
 "metadata": {
  "kernelspec": {
   "display_name": "Python 3 (ipykernel)",
   "language": "python",
   "name": "python3"
  },
  "language_info": {
   "codemirror_mode": {
    "name": "ipython",
    "version": 3
   },
   "file_extension": ".py",
   "mimetype": "text/x-python",
   "name": "python",
   "nbconvert_exporter": "python",
   "pygments_lexer": "ipython3",
   "version": "3.8.0"
  }
 },
 "nbformat": 4,
 "nbformat_minor": 5
}
