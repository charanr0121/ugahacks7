{
 "cells": [
  {
   "cell_type": "code",
   "execution_count": 2,
   "metadata": {},
   "outputs": [],
   "source": [
    "import pandas as pd \n",
    "import numpy as np \n",
    "import requests"
   ]
  },
  {
   "cell_type": "code",
   "execution_count": 17,
   "metadata": {},
   "outputs": [],
   "source": [
    "key = \"z4iOaNPllSXzAlNwbiCL9zJsFP8fZWTtTZFoJiIBHHGOqOtoXyuePqgKA6SAnuLT\"\n",
    "data_wrapper_url = \"https://api.datawrapper.de/v3/data-wrapper\"\n",
    "#get Apple data \n",
    "df = pd.read_csv(\"../data/all_stocks.csv\")\n",
    "df = df[df.ticker == \"AAPL\"]\n",
    "df = df[[\"time\", \"close_price\"]]"
   ]
  },
  {
   "cell_type": "code",
   "execution_count": 11,
   "metadata": {},
   "outputs": [],
   "source": [
    "from datawrapper import Datawrapper\n",
    "dw = Datawrapper(access_token = key)\n"
   ]
  },
  {
   "cell_type": "code",
   "execution_count": 19,
   "metadata": {},
   "outputs": [
    {
     "name": "stdout",
     "output_type": "stream",
     "text": [
      "New chart d3-lines created!\n"
     ]
    }
   ],
   "source": [
    "stock_chart = dw.create_chart(title = \"Apple Stock Closing Price\", \n",
    "    chart_type=\"d3-lines\", data=df)\n"
   ]
  },
  {
   "cell_type": "code",
   "execution_count": 20,
   "metadata": {},
   "outputs": [
    {
     "name": "stderr",
     "output_type": "stream",
     "text": [
      "C:\\Users\\Ayush\\.conda\\envs\\ugahacks\\lib\\site-packages\\IPython\\core\\display.py:724: UserWarning: Consider using IPython.display.IFrame instead\n",
      "  warnings.warn(\"Consider using IPython.display.IFrame instead\")\n"
     ]
    },
    {
     "data": {
      "text/html": [
       "<iframe title=\"Apple Stock Closing Price\" aria-label=\"Interactive line chart\" id=\"datawrapper-chart-IGOgQ\" src=\"https://datawrapper.dwcdn.net/IGOgQ/1/\" scrolling=\"no\" frameborder=\"0\" style=\"border: none;\" width=\"undefined\" height=\"undefined\"></iframe>"
      ],
      "text/plain": [
       "<IPython.core.display.HTML object>"
      ]
     },
     "execution_count": 20,
     "metadata": {},
     "output_type": "execute_result"
    }
   ],
   "source": [
    "dw.publish_chart(stock_chart['id'])\n"
   ]
  },
  {
   "cell_type": "code",
   "execution_count": 22,
   "metadata": {},
   "outputs": [
    {
     "data": {
      "text/plain": [
       "'<iframe title=\"Apple Stock Closing Price\" aria-label=\"Interactive line chart\" id=\"datawrapper-chart-IGOgQ\" src=\"https://datawrapper.dwcdn.net/IGOgQ/1/\" scrolling=\"no\" frameborder=\"0\" style=\"border: none;\" width=\"undefined\" height=\"undefined\"></iframe>'"
      ]
     },
     "execution_count": 22,
     "metadata": {},
     "output_type": "execute_result"
    }
   ],
   "source": [
    "dw.get_iframe_code(stock_chart['id'])\n"
   ]
  }
 ],
 "metadata": {
  "interpreter": {
   "hash": "455c487971e5d9bfa859146a661fac7dd26512c2014fa91886b6a9ca0fb4f93a"
  },
  "kernelspec": {
   "display_name": "Python 3.9.7 ('ugahacks')",
   "language": "python",
   "name": "python3"
  },
  "language_info": {
   "codemirror_mode": {
    "name": "ipython",
    "version": 3
   },
   "file_extension": ".py",
   "mimetype": "text/x-python",
   "name": "python",
   "nbconvert_exporter": "python",
   "pygments_lexer": "ipython3",
   "version": "3.9.7"
  },
  "orig_nbformat": 4
 },
 "nbformat": 4,
 "nbformat_minor": 2
}
